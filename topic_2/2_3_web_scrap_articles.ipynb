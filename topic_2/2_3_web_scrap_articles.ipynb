{
 "cells": [
  {
   "cell_type": "markdown",
   "id": "c4a6fe14-9e00-45e5-8211-fb443473d705",
   "metadata": {},
   "source": [
    "# Applied Project in Big Data on Industrial Dataset"
   ]
  },
  {
   "cell_type": "markdown",
   "id": "32fe49ed-4786-4b97-99e6-75725e539d3b",
   "metadata": {},
   "source": [
    "## DATA COLLECTION TECHNIQUES\n",
    "## Part III. Web scraping with API trick"
   ]
  },
  {
   "cell_type": "markdown",
   "id": "c83f858c-779d-4c87-8af2-d80e2ccf7e76",
   "metadata": {},
   "source": [
    "### 1. Libraries and hyperparameters"
   ]
  },
  {
   "cell_type": "code",
   "execution_count": null,
   "id": "7ebd509d-1915-45b8-bfa0-88ceac39f53c",
   "metadata": {},
   "outputs": [],
   "source": [
    "import os\n",
    "import re\n",
    "import json\n",
    "import socket\n",
    "from random import randint, uniform\n",
    "from urllib.request import (\n",
    "    Request, \n",
    "    urlopen, \n",
    "    URLError, \n",
    "    HTTPError, \n",
    "    ProxyHandler, \n",
    "    build_opener, \n",
    "    install_opener)\n",
    "from urllib.parse import quote, unquote, urlencode\n",
    "from time import sleep, gmtime, strftime\n",
    "from tqdm import tqdm"
   ]
  },
  {
   "cell_type": "code",
   "execution_count": null,
   "id": "5bc93b58-f6a6-466b-9a7f-f214492c8727",
   "metadata": {
    "tags": []
   },
   "outputs": [],
   "source": [
    "USER_AGENT = 'Mozilla/5.0 (Windows NT 6.1; WOW64) AppleWebKit/537.36 (KHTML, like Gecko) Chrome/74.0.3729.169 YaBrowser/19.6.1.153 Yowser/2.5 Safari/537.36'\n",
    "MIN_TIME_SLEEP = .1\n",
    "MAX_TIME_SLEEP = 2\n",
    "MAX_COUNTS = 2\n",
    "TIMEOUT = 15"
   ]
  },
  {
   "cell_type": "markdown",
   "id": "79689f38-e59c-4eb0-8ccf-9dca1c4387e7",
   "metadata": {},
   "source": [
    "### 2. Main function for data gathering"
   ]
  },
  {
   "cell_type": "code",
   "execution_count": null,
   "id": "bb039503-c274-40b4-a7d7-812abef28121",
   "metadata": {},
   "outputs": [],
   "source": [
    "def url_content(url_page, user_agent, \n",
    "            min_time_sleep, max_time_sleep, max_counts, timeout,\n",
    "            proxies=None, file_content=False, json_data=None):\n",
    "    counts = 0\n",
    "    content = None\n",
    "    while counts < max_counts:\n",
    "        try:\n",
    "            request = Request(url_page)\n",
    "            request.add_header('User-Agent', user_agent)\n",
    "            if proxies:\n",
    "                proxy_support = ProxyHandler(proxies)\n",
    "                opener = build_opener(proxy_support)\n",
    "                install_opener(opener)\n",
    "                context = ssl._create_unverified_context()\n",
    "                response = urlopen(\n",
    "                    request, \n",
    "                    context=context, \n",
    "                    timeout=self.timeout\n",
    "                )\n",
    "            else:\n",
    "                if json_data:\n",
    "                    response = urlopen(\n",
    "                        request, \n",
    "                        data=json.dumps(json_data).encode('utf-8'),\n",
    "                        timeout=timeout\n",
    "                    )\n",
    "                else:\n",
    "                    response = urlopen(request, timeout=timeout)\n",
    "            if file_content:\n",
    "                content = response.read()\n",
    "            else:\n",
    "                try:\n",
    "                    content = response.read().decode(\n",
    "                        response.headers.get_content_charset()\n",
    "                    )\n",
    "                except:\n",
    "                    content = None\n",
    "            break\n",
    "        except URLError as e:\n",
    "            counts += 1\n",
    "            print('URLError | ', url_page, ' | ', e, ' | counts: ', counts)\n",
    "            sleep(uniform(\n",
    "                counts * min_time_sleep, counts * max_time_sleep\n",
    "            ))\n",
    "        except HTTPError as e:\n",
    "            counts += 1\n",
    "            print('HTTPError | ', url_page, ' | ', e, ' | counts: ', counts)\n",
    "            sleep(uniform(\n",
    "                counts * min_time_sleep, counts * max_time_sleep\n",
    "            ))\n",
    "        except socket.timeout as e:\n",
    "            counts += 1\n",
    "            print('socket timeout | ', url_page, ' | ', e, ' | counts: ', counts)\n",
    "            sleep(uniform(\n",
    "                counts * min_time_sleep, counts * max_time_sleep\n",
    "            ))\n",
    "    return content"
   ]
  },
  {
   "cell_type": "markdown",
   "id": "23be5d80-bd9e-4a12-a6af-2b3c1751c28b",
   "metadata": {},
   "source": [
    "### 3. Data collect"
   ]
  },
  {
   "cell_type": "code",
   "execution_count": null,
   "id": "c7368a15-25ed-47de-bb12-5bb8f6e8ba35",
   "metadata": {},
   "outputs": [],
   "source": [
    "base_url = 'https://cyberleninka.ru'\n",
    "print(base_url)"
   ]
  },
  {
   "cell_type": "markdown",
   "id": "fcfc6412-00d5-4a64-8370-f428c181a91c",
   "metadata": {},
   "source": [
    "#### 3.1. Macroeconomics"
   ]
  },
  {
   "cell_type": "code",
   "execution_count": null,
   "id": "4fdaf0a8-ffbb-40c9-8cce-d2adfb814562",
   "metadata": {},
   "outputs": [],
   "source": [
    "search = 'макроэкономика государство денежно кредитная политика'"
   ]
  },
  {
   "cell_type": "code",
   "execution_count": null,
   "id": "d236e5b3-e431-4e66-9839-bba98ead1387",
   "metadata": {
    "tags": []
   },
   "outputs": [],
   "source": [
    "data = {\n",
    "    'mode': 'articles',\n",
    "    'q': search,\n",
    "    'size': 1000,\n",
    "    'from': 0\n",
    "}\n",
    "print(data)"
   ]
  },
  {
   "cell_type": "code",
   "execution_count": null,
   "id": "efe1c1c1-7a1a-4f80-8a68-69bd0d863e86",
   "metadata": {},
   "outputs": [],
   "source": [
    "content = url_content(\n",
    "    url_page=base_url + '/api/search',\n",
    "    user_agent=USER_AGENT, \n",
    "    timeout=TIMEOUT, \n",
    "    max_counts=MAX_COUNTS,\n",
    "    min_time_sleep=MIN_TIME_SLEEP, \n",
    "    max_time_sleep=MAX_TIME_SLEEP,\n",
    "    proxies=None, \n",
    "    file_content=True, \n",
    "    json_data=data\n",
    ")"
   ]
  },
  {
   "cell_type": "code",
   "execution_count": null,
   "id": "c0139756-328a-4a96-bda3-e7e032f17034",
   "metadata": {},
   "outputs": [],
   "source": [
    "type(content)"
   ]
  },
  {
   "cell_type": "code",
   "execution_count": null,
   "id": "17f77f85-1fe2-42b4-b546-7423e3d4e0c1",
   "metadata": {
    "tags": []
   },
   "outputs": [],
   "source": [
    "content = json.loads(content)"
   ]
  },
  {
   "cell_type": "code",
   "execution_count": null,
   "id": "9e69be4d-1cb8-4a1c-ab7e-63f3d34dddfb",
   "metadata": {},
   "outputs": [],
   "source": [
    "type(content)"
   ]
  },
  {
   "cell_type": "code",
   "execution_count": null,
   "id": "b98f4f83-d92c-4f15-bafe-d167daae8879",
   "metadata": {},
   "outputs": [],
   "source": [
    "content.keys()"
   ]
  },
  {
   "cell_type": "code",
   "execution_count": null,
   "id": "a286c0fa-93d3-42ec-a25f-18041affa68f",
   "metadata": {
    "tags": []
   },
   "outputs": [],
   "source": [
    "len(content['articles'])"
   ]
  },
  {
   "cell_type": "code",
   "execution_count": null,
   "id": "45e0a3ba-71a3-4802-b5bc-46d9e63a744b",
   "metadata": {
    "tags": []
   },
   "outputs": [],
   "source": [
    "content['articles'][0]"
   ]
  },
  {
   "cell_type": "code",
   "execution_count": null,
   "id": "2e153f48-f8cd-4a63-beee-e9011d8054b0",
   "metadata": {},
   "outputs": [],
   "source": [
    "folder = 'articles_data'\n",
    "os.makedirs(folder, exist_ok=True)"
   ]
  },
  {
   "cell_type": "code",
   "execution_count": null,
   "id": "32cae44f-e8e4-4a54-ad8b-7b1eb6fc3b9e",
   "metadata": {},
   "outputs": [],
   "source": [
    "file_path = f'{folder}/articles_lbl_0.json'\n",
    "with open(file_path, 'w') as file:\n",
    "    json.dump(content, file)"
   ]
  },
  {
   "cell_type": "markdown",
   "id": "32b39a29-f022-43b8-8ecb-be17dafe99bc",
   "metadata": {},
   "source": [
    "#### 3.2. Microeconomics"
   ]
  },
  {
   "cell_type": "code",
   "execution_count": null,
   "id": "054165c9-9b74-475d-a5cd-2a47e600cdbc",
   "metadata": {},
   "outputs": [],
   "source": [
    "search = 'микроэкономика управление предприятием потребитель'"
   ]
  },
  {
   "cell_type": "code",
   "execution_count": null,
   "id": "f4429bf5-74ac-478e-bca0-d747b98b9ac6",
   "metadata": {
    "tags": []
   },
   "outputs": [],
   "source": [
    "data = {\n",
    "    'mode': 'articles',\n",
    "    'q': search,\n",
    "    'size': 1000,\n",
    "    'from': 0\n",
    "}\n",
    "print(data)"
   ]
  },
  {
   "cell_type": "code",
   "execution_count": null,
   "id": "bff052fe-605b-40f4-a7ba-835981202e05",
   "metadata": {},
   "outputs": [],
   "source": [
    "content = url_content(\n",
    "    url_page=base_url + '/api/search',\n",
    "    user_agent=USER_AGENT, \n",
    "    timeout=TIMEOUT, \n",
    "    max_counts=MAX_COUNTS,\n",
    "    min_time_sleep=MIN_TIME_SLEEP, \n",
    "    max_time_sleep=MAX_TIME_SLEEP,\n",
    "    proxies=None, \n",
    "    file_content=True, \n",
    "    json_data=data\n",
    ")"
   ]
  },
  {
   "cell_type": "code",
   "execution_count": null,
   "id": "d1abfdf4-0ab5-4a80-b839-cf2eff914621",
   "metadata": {},
   "outputs": [],
   "source": [
    "content = json.loads(content)\n",
    "len(content['articles'])"
   ]
  },
  {
   "cell_type": "code",
   "execution_count": null,
   "id": "9f3e2065-e4dd-46c6-b6f8-be6d1381b76c",
   "metadata": {},
   "outputs": [],
   "source": [
    "content['articles'][0]"
   ]
  },
  {
   "cell_type": "code",
   "execution_count": null,
   "id": "9d0e783f-bf31-4de0-9de5-3921b11fb2d9",
   "metadata": {},
   "outputs": [],
   "source": [
    "file_path = f'{folder}/articles_lbl_1.json'\n",
    "with open(file_path, 'w') as file:\n",
    "    json.dump(content, file)"
   ]
  },
  {
   "cell_type": "code",
   "execution_count": null,
   "id": "18b0d902-1aca-48aa-9c7d-1b1c458cc9af",
   "metadata": {},
   "outputs": [],
   "source": []
  }
 ],
 "metadata": {
  "kernelspec": {
   "display_name": "Python 3 (ipykernel)",
   "language": "python",
   "name": "python3"
  },
  "language_info": {
   "codemirror_mode": {
    "name": "ipython",
    "version": 3
   },
   "file_extension": ".py",
   "mimetype": "text/x-python",
   "name": "python",
   "nbconvert_exporter": "python",
   "pygments_lexer": "ipython3",
   "version": "3.10.8"
  },
  "widgets": {
   "application/vnd.jupyter.widget-state+json": {
    "state": {},
    "version_major": 2,
    "version_minor": 0
   }
  }
 },
 "nbformat": 4,
 "nbformat_minor": 5
}
