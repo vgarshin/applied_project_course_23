{
 "cells": [
  {
   "cell_type": "markdown",
   "id": "simple-pilot",
   "metadata": {},
   "source": [
    "# Applied Project in Big Data on Industrial Dataset"
   ]
  },
  {
   "cell_type": "markdown",
   "id": "loved-giant",
   "metadata": {},
   "source": [
    "## DATA COLLECTION TECHNIQUES\n",
    "## Part I. Web scraping intro"
   ]
  },
  {
   "cell_type": "markdown",
   "id": "supported-wisdom",
   "metadata": {},
   "source": [
    "### 1. Libraries"
   ]
  },
  {
   "cell_type": "markdown",
   "id": "greatest-rubber",
   "metadata": {},
   "source": [
    "Let's start from very basic example, we wiil need [urllib](https://docs.python.org/3/library/urllib.html) library for  opening and reading URLs. We will also use [Beautiful Soup](https://beautiful-soup-4.readthedocs.io/en/latest/) Python library to parce HTML data."
   ]
  },
  {
   "cell_type": "code",
   "execution_count": null,
   "id": "conceptual-integration",
   "metadata": {},
   "outputs": [],
   "source": [
    "import os\n",
    "import re\n",
    "from urllib.request import Request, urlopen\n",
    "from bs4 import BeautifulSoup"
   ]
  },
  {
   "cell_type": "markdown",
   "id": "united-directive",
   "metadata": {},
   "source": [
    "### 2. Get text from HTML page"
   ]
  },
  {
   "cell_type": "code",
   "execution_count": null,
   "id": "hollywood-interference",
   "metadata": {},
   "outputs": [],
   "source": [
    "URL_2_SCRAP = 'https://ai-jobs.net'\n",
    "print(URL_2_SCRAP)"
   ]
  },
  {
   "cell_type": "code",
   "execution_count": null,
   "id": "greek-reunion",
   "metadata": {},
   "outputs": [],
   "source": [
    "request = Request(URL_2_SCRAP)\n",
    "response = urlopen(request)\n",
    "html = response.read()"
   ]
  },
  {
   "cell_type": "code",
   "execution_count": null,
   "id": "fa184175",
   "metadata": {
    "tags": []
   },
   "outputs": [],
   "source": [
    "html"
   ]
  },
  {
   "cell_type": "code",
   "execution_count": null,
   "id": "b4bb0223",
   "metadata": {},
   "outputs": [],
   "source": [
    "soup = BeautifulSoup(html, 'html.parser')"
   ]
  },
  {
   "cell_type": "code",
   "execution_count": null,
   "id": "06b4f8b2",
   "metadata": {
    "tags": []
   },
   "outputs": [],
   "source": [
    "soup"
   ]
  },
  {
   "cell_type": "code",
   "execution_count": null,
   "id": "serious-story",
   "metadata": {
    "tags": []
   },
   "outputs": [],
   "source": [
    "soup.contents"
   ]
  },
  {
   "cell_type": "code",
   "execution_count": null,
   "id": "f07415e7-e1c2-4d9e-a1b1-3cd283c81f78",
   "metadata": {
    "tags": []
   },
   "outputs": [],
   "source": [
    "soup.contents[0]"
   ]
  },
  {
   "cell_type": "code",
   "execution_count": null,
   "id": "realistic-mustang",
   "metadata": {
    "tags": []
   },
   "outputs": [],
   "source": [
    "soup.text"
   ]
  },
  {
   "cell_type": "code",
   "execution_count": null,
   "id": "accurate-message",
   "metadata": {},
   "outputs": [],
   "source": [
    "text = soup.text\n",
    "for ch in ['\\n', '\\t', '\\r']:\n",
    "    text = text.replace(ch, ' ')"
   ]
  },
  {
   "cell_type": "code",
   "execution_count": null,
   "id": "nonprofit-audio",
   "metadata": {
    "tags": []
   },
   "outputs": [],
   "source": [
    "' '.join(text.split())"
   ]
  },
  {
   "cell_type": "markdown",
   "id": "confidential-indianapolis",
   "metadata": {},
   "source": [
    "### 3. Simple NLP analysis"
   ]
  },
  {
   "cell_type": "code",
   "execution_count": null,
   "id": "chubby-cricket",
   "metadata": {
    "tags": []
   },
   "outputs": [],
   "source": [
    "# lower text and leave only text without symbols\n",
    "# with help of regular expressions library\n",
    "\n",
    "text = re.sub('[^а-яА-Яa-zA-Z]+', ' ', text).strip().lower()\n",
    "text"
   ]
  },
  {
   "cell_type": "code",
   "execution_count": null,
   "id": "satisfactory-forth",
   "metadata": {},
   "outputs": [],
   "source": [
    "text_as_list = text.split()\n",
    "text_as_list[:5]"
   ]
  },
  {
   "cell_type": "code",
   "execution_count": null,
   "id": "designed-cameroon",
   "metadata": {},
   "outputs": [],
   "source": [
    "from collections import Counter"
   ]
  },
  {
   "cell_type": "code",
   "execution_count": null,
   "id": "pretty-values",
   "metadata": {
    "tags": []
   },
   "outputs": [],
   "source": [
    "Counter(text_as_list)"
   ]
  },
  {
   "cell_type": "code",
   "execution_count": null,
   "id": "variable-three",
   "metadata": {},
   "outputs": [],
   "source": [
    "freqs = dict(Counter(text_as_list))"
   ]
  },
  {
   "cell_type": "code",
   "execution_count": null,
   "id": "confused-atmosphere",
   "metadata": {
    "tags": []
   },
   "outputs": [],
   "source": [
    "freqs"
   ]
  },
  {
   "cell_type": "code",
   "execution_count": null,
   "id": "peripheral-colorado",
   "metadata": {
    "tags": []
   },
   "outputs": [],
   "source": [
    "freqs = dict(\n",
    "    sorted(\n",
    "        freqs.items(), \n",
    "        key=lambda item: item[1], \n",
    "        reverse=True\n",
    "    )\n",
    ")\n",
    "freqs"
   ]
  },
  {
   "cell_type": "code",
   "execution_count": null,
   "id": "acknowledged-brooks",
   "metadata": {},
   "outputs": [],
   "source": [
    "import matplotlib.pyplot as plt"
   ]
  },
  {
   "cell_type": "code",
   "execution_count": null,
   "id": "specified-remark",
   "metadata": {},
   "outputs": [],
   "source": [
    "freqs_bar = {k: v for k, v in freqs.items() if v >= 10}"
   ]
  },
  {
   "cell_type": "code",
   "execution_count": null,
   "id": "undefined-majority",
   "metadata": {},
   "outputs": [],
   "source": [
    "plt.figure(figsize=(16, 6))\n",
    "plt.bar(*zip(*freqs_bar.items()))\n",
    "plt.xticks(rotation='vertical')\n",
    "plt.show()"
   ]
  },
  {
   "cell_type": "markdown",
   "id": "comparative-bargain",
   "metadata": {},
   "source": [
    "### 4. Save HTML to disk as row data"
   ]
  },
  {
   "cell_type": "code",
   "execution_count": null,
   "id": "aware-license",
   "metadata": {},
   "outputs": [],
   "source": [
    "with open('ai_jobs_page.html', 'w') as file:\n",
    "    file.write(html.decode())"
   ]
  },
  {
   "cell_type": "code",
   "execution_count": null,
   "id": "latter-composition",
   "metadata": {},
   "outputs": [],
   "source": [
    "with open('ai_jobs_page.html', 'r') as file:\n",
    "    text = file.read()"
   ]
  },
  {
   "cell_type": "code",
   "execution_count": null,
   "id": "systematic-strengthening",
   "metadata": {
    "tags": []
   },
   "outputs": [],
   "source": [
    "text"
   ]
  },
  {
   "cell_type": "markdown",
   "id": "selective-investor",
   "metadata": {},
   "source": [
    "### 5. More than text"
   ]
  },
  {
   "cell_type": "code",
   "execution_count": null,
   "id": "acquired-granny",
   "metadata": {
    "tags": []
   },
   "outputs": [],
   "source": [
    "soup"
   ]
  },
  {
   "cell_type": "code",
   "execution_count": null,
   "id": "equivalent-confirmation",
   "metadata": {},
   "outputs": [],
   "source": [
    "soup.find_all('img')[1:10]"
   ]
  },
  {
   "cell_type": "code",
   "execution_count": null,
   "id": "friendly-evolution",
   "metadata": {},
   "outputs": [],
   "source": [
    "soup.find_all('img', attrs={'alt': 'Micron Technology logo'})"
   ]
  },
  {
   "cell_type": "code",
   "execution_count": null,
   "id": "ordered-dimension",
   "metadata": {},
   "outputs": [],
   "source": [
    "soup.find_all('img')[3]['src']"
   ]
  },
  {
   "cell_type": "code",
   "execution_count": null,
   "id": "3f462a03-48d7-4195-90f1-bc94e84f5dc7",
   "metadata": {},
   "outputs": [],
   "source": [
    "# or you can use `find` with `attrs`\n",
    "\n",
    "soup.find('img', attrs={'alt': 'Micron Technology logo'})['src']"
   ]
  },
  {
   "cell_type": "code",
   "execution_count": null,
   "id": "reasonable-invention",
   "metadata": {},
   "outputs": [],
   "source": [
    "URL_2_SCRAP_IMG = 'https://ai-jobs.net/' + \\\n",
    "    soup.find('img', attrs={'alt': 'Micron Technology logo'})['src']\n",
    "print(URL_2_SCRAP_IMG)"
   ]
  },
  {
   "cell_type": "code",
   "execution_count": null,
   "id": "unable-delay",
   "metadata": {},
   "outputs": [],
   "source": [
    "request = Request(URL_2_SCRAP_IMG)\n",
    "response = urlopen(request)\n",
    "img = response"
   ]
  },
  {
   "cell_type": "code",
   "execution_count": null,
   "id": "developing-covering",
   "metadata": {},
   "outputs": [],
   "source": [
    "img"
   ]
  },
  {
   "cell_type": "code",
   "execution_count": null,
   "id": "tough-ownership",
   "metadata": {},
   "outputs": [],
   "source": [
    "from PIL import Image\n",
    "import numpy as np"
   ]
  },
  {
   "cell_type": "code",
   "execution_count": null,
   "id": "fuzzy-columbia",
   "metadata": {},
   "outputs": [],
   "source": [
    "plt.figure(figsize=(12, 8))\n",
    "img = Image.open(img)\n",
    "plt.imshow(np.array(img))\n",
    "plt.show()"
   ]
  },
  {
   "cell_type": "code",
   "execution_count": null,
   "id": "abandoned-twenty",
   "metadata": {},
   "outputs": [],
   "source": [
    "img.save('logo.jpg')"
   ]
  },
  {
   "cell_type": "markdown",
   "id": "11536061",
   "metadata": {},
   "source": [
    "### 6. Get data"
   ]
  },
  {
   "cell_type": "code",
   "execution_count": null,
   "id": "a66895e1",
   "metadata": {
    "tags": []
   },
   "outputs": [],
   "source": [
    "# look carefully at this soup and you will find that \n",
    "# job descriptions are insude the `a` tags\n",
    "# like <a class=\"col pt-2 pb-3\" \n",
    "#     href=\"/job/84649-senior-data-engineer/\" \n",
    "#     title=\"View details for this job\">\n",
    "\n",
    "soup"
   ]
  },
  {
   "cell_type": "code",
   "execution_count": null,
   "id": "01668ac5",
   "metadata": {},
   "outputs": [],
   "source": [
    "soup.find('a')"
   ]
  },
  {
   "cell_type": "code",
   "execution_count": null,
   "id": "f07dd711",
   "metadata": {
    "tags": []
   },
   "outputs": [],
   "source": [
    "soup.find_all('a')"
   ]
  },
  {
   "cell_type": "code",
   "execution_count": null,
   "id": "baba71ed",
   "metadata": {
    "tags": []
   },
   "outputs": [],
   "source": [
    "soup.find_all('a', class_='col pt-2 pb-3')"
   ]
  },
  {
   "cell_type": "code",
   "execution_count": null,
   "id": "7abfd418",
   "metadata": {},
   "outputs": [],
   "source": [
    "jobs_list = soup.find_all('a', class_='col pt-2 pb-3')"
   ]
  },
  {
   "cell_type": "code",
   "execution_count": null,
   "id": "7536131b-a674-4074-b2d3-b577239385f5",
   "metadata": {},
   "outputs": [],
   "source": [
    "# or in `dict` key-value style\n",
    "\n",
    "jobs_list = soup.find_all('a', {'class': 'col pt-2 pb-3'})"
   ]
  },
  {
   "cell_type": "code",
   "execution_count": null,
   "id": "613865ce",
   "metadata": {
    "tags": []
   },
   "outputs": [],
   "source": [
    "jobs_list[0]"
   ]
  },
  {
   "cell_type": "code",
   "execution_count": null,
   "id": "4fd35ded",
   "metadata": {
    "tags": []
   },
   "outputs": [],
   "source": [
    "jobs_list[1]"
   ]
  },
  {
   "cell_type": "code",
   "execution_count": null,
   "id": "373f2353",
   "metadata": {},
   "outputs": [],
   "source": [
    "jobs_list[1]['href']"
   ]
  },
  {
   "cell_type": "code",
   "execution_count": null,
   "id": "5da5bf13",
   "metadata": {
    "tags": []
   },
   "outputs": [],
   "source": [
    "jobs_list[1]['title']"
   ]
  },
  {
   "cell_type": "code",
   "execution_count": null,
   "id": "0bcb16c4-9d9b-4e81-a4fe-abd822b01211",
   "metadata": {},
   "outputs": [],
   "source": [
    "jobs_list[1].find('h3')"
   ]
  },
  {
   "cell_type": "code",
   "execution_count": null,
   "id": "ae0cfacd-50ba-49e4-a816-d79047ef5ae6",
   "metadata": {},
   "outputs": [],
   "source": [
    "jobs_list[1].find('h3').text"
   ]
  },
  {
   "cell_type": "code",
   "execution_count": null,
   "id": "419c6f9b",
   "metadata": {},
   "outputs": [],
   "source": [
    "jobs_list[1].find_all('span')"
   ]
  },
  {
   "cell_type": "code",
   "execution_count": null,
   "id": "5bca7e82",
   "metadata": {},
   "outputs": [],
   "source": [
    "jobs_list[1].find_all('span')[0]['class']"
   ]
  },
  {
   "cell_type": "code",
   "execution_count": null,
   "id": "8b401b25",
   "metadata": {},
   "outputs": [],
   "source": [
    "# location of the job \n",
    "\n",
    "jobs_list[1].find('span', class_='d-block d-md-none text-break')"
   ]
  },
  {
   "cell_type": "code",
   "execution_count": null,
   "id": "e6eec361-d736-4cd1-be5b-2354cc43a3cb",
   "metadata": {},
   "outputs": [],
   "source": [
    "# position for the job \n",
    "\n",
    "jobs_list[1].find('span', class_='badge rounded-pill text-bg-info my-md-1 d-md-none')"
   ]
  },
  {
   "cell_type": "code",
   "execution_count": null,
   "id": "ad67c2e2",
   "metadata": {},
   "outputs": [],
   "source": [
    "# requirements\n",
    "\n",
    "jobs_list[1].find_all('span', class_='badge rounded-pill text-bg-light')"
   ]
  },
  {
   "cell_type": "code",
   "execution_count": null,
   "id": "3163dd6d",
   "metadata": {},
   "outputs": [],
   "source": [
    "[x.text \n",
    " for x in jobs_list[1].find_all(\n",
    "     'span', \n",
    "     class_='badge rounded-pill text-bg-light'\n",
    " )]"
   ]
  },
  {
   "cell_type": "code",
   "execution_count": null,
   "id": "e8abd1ab",
   "metadata": {
    "tags": []
   },
   "outputs": [],
   "source": [
    "for job in jobs_list:\n",
    "    print(job['title'])\n",
    "    print(URL_2_SCRAP + job['href'])\n",
    "    print(\n",
    "        'location ->',\n",
    "        job.find('span', class_='d-block d-md-none text-break').text\n",
    "    )\n",
    "    try:\n",
    "        print(\n",
    "            'position ->',\n",
    "            job.find('span', class_='badge rounded-pill text-bg-info my-md-1 d-md-none').text\n",
    "        )\n",
    "    except:\n",
    "        print('no position defined')\n",
    "    print(\n",
    "        'requirements ->',\n",
    "        [x.text for x in job.find_all('span', class_='badge rounded-pill text-bg-light')]\n",
    "    )\n",
    "    print('*' * 50)"
   ]
  },
  {
   "cell_type": "markdown",
   "id": "eb92002b-7dbd-4ffd-8e53-a865efac425f",
   "metadata": {},
   "source": [
    "Let's try to collect data and put it to dictionary first and then convert to Pandas dataframe."
   ]
  },
  {
   "cell_type": "code",
   "execution_count": null,
   "id": "13035501",
   "metadata": {},
   "outputs": [],
   "source": [
    "from tqdm.notebook import tqdm\n",
    "\n",
    "# list for all jobs collected\n",
    "all_jobs = []\n",
    "\n",
    "for job in tqdm(jobs_list):\n",
    "    \n",
    "    # dictionary for a single job\n",
    "    job_dict = {}\n",
    "    \n",
    "    job_dict['description'] = job.find('h3').text\n",
    "    job_dict['url'] = URL_2_SCRAP + job['href']\n",
    "    location = job.find(\n",
    "        'span', \n",
    "        class_='d-block d-md-none text-break'\n",
    "    )\n",
    "    job_dict['location'] = location.text if location else ''\n",
    "    time = job.find(\n",
    "        'span', \n",
    "        class_='badge badge-secondary badge-pill my-md-1'\n",
    "    )\n",
    "    job_dict['time'] = time.text if time else ''\n",
    "    position = job.find(\n",
    "        'span', \n",
    "        class_='badge rounded-pill text-bg-secondary my-md-1 ms-1'\n",
    "    )\n",
    "    job_dict['position'] = position.text if position else ''\n",
    "    level = job.find(\n",
    "        'span', \n",
    "        class_='badge rounded-pill text-bg-info my-md-1 d-md-none'\n",
    "    )\n",
    "    job_dict['level'] = level.text if level else ''\n",
    "    salary_range = job.find(\n",
    "        'span', \n",
    "        class_='badge rounded-pill text-bg-info my-md-1 d-none d-md-inline-block'\n",
    "    )\n",
    "    job_dict['salary_range'] = salary_range.text if salary_range else ''\n",
    "    salary = job.find(\n",
    "        'span', \n",
    "        class_='badge rounded-pill text-bg-success d-none d-md-inline-block'\n",
    "    )\n",
    "    job_dict['salary'] = salary.text if salary else ''\n",
    "    job_dict['requirements'] = [\n",
    "        x.text for x in job.find_all('span', class_='badge rounded-pill text-bg-light')\n",
    "    ]\n",
    "    job_dict['offers'] = [\n",
    "        x.text for x in job.find_all('span', class_='badge rounded-pill text-bg-success')\n",
    "    ]\n",
    "    \n",
    "    all_jobs.append(job_dict)\n",
    "\n",
    "print('jobs collected:', len(all_jobs))"
   ]
  },
  {
   "cell_type": "code",
   "execution_count": null,
   "id": "5b0c6880",
   "metadata": {},
   "outputs": [],
   "source": [
    "import pandas as pd"
   ]
  },
  {
   "cell_type": "code",
   "execution_count": null,
   "id": "06eeff98",
   "metadata": {},
   "outputs": [],
   "source": [
    "pd.DataFrame(all_jobs)"
   ]
  },
  {
   "cell_type": "markdown",
   "id": "a1d92a93",
   "metadata": {},
   "source": [
    "### 7. Get data by single item"
   ]
  },
  {
   "cell_type": "code",
   "execution_count": null,
   "id": "76daba37-571d-4d6b-a30d-c0313860c269",
   "metadata": {},
   "outputs": [],
   "source": [
    "URL_2_SCRAP_SINGLE = all_jobs[0]['url']\n",
    "URL_2_SCRAP_SINGLE"
   ]
  },
  {
   "cell_type": "code",
   "execution_count": null,
   "id": "650c77d2",
   "metadata": {},
   "outputs": [],
   "source": [
    "request = Request(URL_2_SCRAP_SINGLE)\n",
    "response = urlopen(request)\n",
    "html = response.read()"
   ]
  },
  {
   "cell_type": "code",
   "execution_count": null,
   "id": "3dc682a5",
   "metadata": {},
   "outputs": [],
   "source": [
    "soup = BeautifulSoup(html, 'html.parser')"
   ]
  },
  {
   "cell_type": "code",
   "execution_count": null,
   "id": "e4ba5108",
   "metadata": {
    "tags": []
   },
   "outputs": [],
   "source": [
    "soup"
   ]
  },
  {
   "cell_type": "code",
   "execution_count": null,
   "id": "b2306139",
   "metadata": {},
   "outputs": [],
   "source": [
    "soup.find_all('script', {'type': 'application/ld+json'})"
   ]
  },
  {
   "cell_type": "code",
   "execution_count": null,
   "id": "1cdc4514-ecb9-4c89-95f2-65ce6729ebc5",
   "metadata": {},
   "outputs": [],
   "source": [
    "soup.find_all('script', {'type': 'application/ld+json'})[0]"
   ]
  },
  {
   "cell_type": "code",
   "execution_count": null,
   "id": "b1dc7d44-a30c-4cf1-a71b-9755da5424d7",
   "metadata": {},
   "outputs": [],
   "source": [
    "soup.find_all('script', {'type': 'application/ld+json'})[1]"
   ]
  },
  {
   "cell_type": "code",
   "execution_count": null,
   "id": "a5d1025f",
   "metadata": {},
   "outputs": [],
   "source": [
    "import json"
   ]
  },
  {
   "cell_type": "code",
   "execution_count": null,
   "id": "b3cac98e",
   "metadata": {
    "tags": []
   },
   "outputs": [],
   "source": [
    "text = soup.find_all('script', {'type': 'application/ld+json'})[1].text\n",
    "print(text)"
   ]
  },
  {
   "cell_type": "code",
   "execution_count": null,
   "id": "34c6aecc",
   "metadata": {},
   "outputs": [],
   "source": [
    "data = json.loads(text)\n",
    "data"
   ]
  },
  {
   "cell_type": "code",
   "execution_count": null,
   "id": "0075906c",
   "metadata": {},
   "outputs": [],
   "source": [
    "data['baseSalary']"
   ]
  },
  {
   "cell_type": "code",
   "execution_count": null,
   "id": "20c0366a",
   "metadata": {},
   "outputs": [],
   "source": [
    "data['identifier']['value']"
   ]
  },
  {
   "cell_type": "markdown",
   "id": "334d1331",
   "metadata": {},
   "source": [
    "### 8. Saving data"
   ]
  },
  {
   "cell_type": "code",
   "execution_count": null,
   "id": "70ebd5e7",
   "metadata": {},
   "outputs": [],
   "source": [
    "folder = 'ai_jobs_data'\n",
    "os.makedirs(folder, exist_ok=True)"
   ]
  },
  {
   "cell_type": "code",
   "execution_count": null,
   "id": "993eff1a",
   "metadata": {},
   "outputs": [],
   "source": [
    "for job in all_jobs[:3]:\n",
    "    print(job['url'])"
   ]
  },
  {
   "cell_type": "code",
   "execution_count": null,
   "id": "42131ba3",
   "metadata": {},
   "outputs": [],
   "source": [
    "from time import sleep\n",
    "from random import uniform"
   ]
  },
  {
   "cell_type": "code",
   "execution_count": null,
   "id": "0563a459",
   "metadata": {},
   "outputs": [],
   "source": [
    "import re\n",
    "\n",
    "class LazyDecoder(json.JSONDecoder):\n",
    "    def decode(self, s, **kwargs):\n",
    "        regex_replacements = [\n",
    "            (re.compile(r'([^\\\\])\\\\([^\\\\])'), r'\\1\\\\\\\\\\2'),\n",
    "            (re.compile(r',(\\s*])'), r'\\1'),\n",
    "        ]\n",
    "        for regex, replacement in regex_replacements:\n",
    "            s = regex.sub(replacement, s)\n",
    "        return super().decode(s, **kwargs)"
   ]
  },
  {
   "cell_type": "code",
   "execution_count": null,
   "id": "79c18ba6",
   "metadata": {},
   "outputs": [],
   "source": [
    "for job in tqdm(all_jobs):\n",
    "    request = Request(job['url'])\n",
    "    response = urlopen(request)\n",
    "    html = response.read()\n",
    "    soup = BeautifulSoup(html, 'html.parser')\n",
    "    \n",
    "    text = soup.find_all('script', {'type': 'application/ld+json'})[1].text\n",
    "    try:\n",
    "        data = json.loads(text, strict=False)\n",
    "    except Exception as e:\n",
    "        data = json.loads(text, cls=LazyDecoder)\n",
    "        print(e, data)\n",
    "   \n",
    "    job_id =  data['identifier']['value']\n",
    "    file_path = f'{folder}/{job_id}.json'\n",
    "    with open(file_path, 'w') as file:\n",
    "        json.dump(data, file)\n",
    "    \n",
    "    sleep(uniform(.1, 1.1))"
   ]
  },
  {
   "cell_type": "markdown",
   "id": "65afefe9-8ed8-4c40-ba47-931d4c432be2",
   "metadata": {},
   "source": [
    "But here is a small problem with collecting more data..."
   ]
  },
  {
   "cell_type": "code",
   "execution_count": null,
   "id": "8eb29c6c-2804-4218-a441-22cfdafb595d",
   "metadata": {},
   "outputs": [],
   "source": []
  }
 ],
 "metadata": {
  "kernelspec": {
   "display_name": "Python 3 (ipykernel)",
   "language": "python",
   "name": "python3"
  },
  "language_info": {
   "codemirror_mode": {
    "name": "ipython",
    "version": 3
   },
   "file_extension": ".py",
   "mimetype": "text/x-python",
   "name": "python",
   "nbconvert_exporter": "python",
   "pygments_lexer": "ipython3",
   "version": "3.10.8"
  },
  "widgets": {
   "application/vnd.jupyter.widget-state+json": {
    "state": {
     "00d0b1b1650e451cb4353593a6f08aa8": {
      "model_module": "@jupyter-widgets/controls",
      "model_module_version": "2.0.0",
      "model_name": "FloatProgressModel",
      "state": {
       "bar_style": "success",
       "layout": "IPY_MODEL_641f9a9ddcde43dbb8522d25ee433dd7",
       "style": "IPY_MODEL_d1a51306a0954ad9882996f8dc48a7b9",
       "value": 100
      }
     },
     "12845c5988744651bb19d70a4620048f": {
      "model_module": "@jupyter-widgets/controls",
      "model_module_version": "2.0.0",
      "model_name": "HBoxModel",
      "state": {
       "children": [
        "IPY_MODEL_dc788a7eb3164836ba7aa75b9584edc7",
        "IPY_MODEL_58d7330ade62444da31a97b3c1a618a4",
        "IPY_MODEL_5eb6cc26cff84a5fa6394c730a9d866a"
       ],
       "layout": "IPY_MODEL_91128b85bfde48a9b32721fa3f1fbeeb"
      }
     },
     "179dd4c2b0354f9cbbc372285bca532a": {
      "model_module": "@jupyter-widgets/controls",
      "model_module_version": "2.0.0",
      "model_name": "FloatProgressModel",
      "state": {
       "bar_style": "danger",
       "layout": "IPY_MODEL_db2de47de5a74cadb1b1ccadb43f42ec",
       "style": "IPY_MODEL_3fabf084a98a4233a2059f8a02fe36e6"
      }
     },
     "19687322702b478d96e80f0f3698670e": {
      "model_module": "@jupyter-widgets/controls",
      "model_module_version": "2.0.0",
      "model_name": "HTMLStyleModel",
      "state": {
       "description_width": "",
       "font_size": null,
       "text_color": null
      }
     },
     "25a8311fbbc848f8a84d0ac774a6c829": {
      "model_module": "@jupyter-widgets/base",
      "model_module_version": "2.0.0",
      "model_name": "LayoutModel",
      "state": {}
     },
     "323c4404e12043439b905cf3c7d8d5e6": {
      "model_module": "@jupyter-widgets/controls",
      "model_module_version": "2.0.0",
      "model_name": "HTMLStyleModel",
      "state": {
       "description_width": "",
       "font_size": null,
       "text_color": null
      }
     },
     "35728c618d6b4071ba105cb71436db82": {
      "model_module": "@jupyter-widgets/controls",
      "model_module_version": "2.0.0",
      "model_name": "HTMLModel",
      "state": {
       "layout": "IPY_MODEL_25a8311fbbc848f8a84d0ac774a6c829",
       "style": "IPY_MODEL_84f9c5b2e4384ddebf8f6a323ea71e14",
       "value": " 100/100 [01:42&lt;00:00,  1.13it/s]"
      }
     },
     "379c47d977664a02b7d472b4c0098ecc": {
      "model_module": "@jupyter-widgets/base",
      "model_module_version": "2.0.0",
      "model_name": "LayoutModel",
      "state": {}
     },
     "3fabf084a98a4233a2059f8a02fe36e6": {
      "model_module": "@jupyter-widgets/controls",
      "model_module_version": "2.0.0",
      "model_name": "ProgressStyleModel",
      "state": {
       "description_width": ""
      }
     },
     "58d7330ade62444da31a97b3c1a618a4": {
      "model_module": "@jupyter-widgets/controls",
      "model_module_version": "2.0.0",
      "model_name": "FloatProgressModel",
      "state": {
       "bar_style": "success",
       "layout": "IPY_MODEL_a497208451084984a49c210685f4f51c",
       "style": "IPY_MODEL_79ad80c1b61048ac9d36f0935b629c58",
       "value": 100
      }
     },
     "5eb6cc26cff84a5fa6394c730a9d866a": {
      "model_module": "@jupyter-widgets/controls",
      "model_module_version": "2.0.0",
      "model_name": "HTMLModel",
      "state": {
       "layout": "IPY_MODEL_cd752f44423d44adb79126472a3be99c",
       "style": "IPY_MODEL_323c4404e12043439b905cf3c7d8d5e6",
       "value": " 100/100 [00:00&lt;00:00, 1265.45it/s]"
      }
     },
     "641f9a9ddcde43dbb8522d25ee433dd7": {
      "model_module": "@jupyter-widgets/base",
      "model_module_version": "2.0.0",
      "model_name": "LayoutModel",
      "state": {}
     },
     "6e87875156904283a78839f268fc9a60": {
      "model_module": "@jupyter-widgets/controls",
      "model_module_version": "2.0.0",
      "model_name": "HTMLStyleModel",
      "state": {
       "description_width": "",
       "font_size": null,
       "text_color": null
      }
     },
     "79ad80c1b61048ac9d36f0935b629c58": {
      "model_module": "@jupyter-widgets/controls",
      "model_module_version": "2.0.0",
      "model_name": "ProgressStyleModel",
      "state": {
       "description_width": ""
      }
     },
     "84f9c5b2e4384ddebf8f6a323ea71e14": {
      "model_module": "@jupyter-widgets/controls",
      "model_module_version": "2.0.0",
      "model_name": "HTMLStyleModel",
      "state": {
       "description_width": "",
       "font_size": null,
       "text_color": null
      }
     },
     "9084430ac11a454894112f40ed797d08": {
      "model_module": "@jupyter-widgets/controls",
      "model_module_version": "2.0.0",
      "model_name": "HTMLStyleModel",
      "state": {
       "description_width": "",
       "font_size": null,
       "text_color": null
      }
     },
     "91128b85bfde48a9b32721fa3f1fbeeb": {
      "model_module": "@jupyter-widgets/base",
      "model_module_version": "2.0.0",
      "model_name": "LayoutModel",
      "state": {}
     },
     "a497208451084984a49c210685f4f51c": {
      "model_module": "@jupyter-widgets/base",
      "model_module_version": "2.0.0",
      "model_name": "LayoutModel",
      "state": {}
     },
     "b3a0f3774a314d4b89803248d6bc5c4b": {
      "model_module": "@jupyter-widgets/controls",
      "model_module_version": "2.0.0",
      "model_name": "HBoxModel",
      "state": {
       "children": [
        "IPY_MODEL_bdfea6b85a4242f3b0ae1b6914b5976b",
        "IPY_MODEL_179dd4c2b0354f9cbbc372285bca532a",
        "IPY_MODEL_f7014ab114244707b4a532fbecfcbc71"
       ],
       "layout": "IPY_MODEL_ffedb865ecf244e7b5d1c91c9603483c"
      }
     },
     "bdfea6b85a4242f3b0ae1b6914b5976b": {
      "model_module": "@jupyter-widgets/controls",
      "model_module_version": "2.0.0",
      "model_name": "HTMLModel",
      "state": {
       "layout": "IPY_MODEL_d5bfbff3b6174709ab5421a357f8adfd",
       "style": "IPY_MODEL_9084430ac11a454894112f40ed797d08",
       "value": "  0%"
      }
     },
     "c196e4ae9daf48ca886ef27ed16101e6": {
      "model_module": "@jupyter-widgets/base",
      "model_module_version": "2.0.0",
      "model_name": "LayoutModel",
      "state": {}
     },
     "c48ae9adbfe34bf98aa6efef4a4f08e3": {
      "model_module": "@jupyter-widgets/controls",
      "model_module_version": "2.0.0",
      "model_name": "HBoxModel",
      "state": {
       "children": [
        "IPY_MODEL_fc4384a309f24ab2ae014e6323fdf892",
        "IPY_MODEL_00d0b1b1650e451cb4353593a6f08aa8",
        "IPY_MODEL_35728c618d6b4071ba105cb71436db82"
       ],
       "layout": "IPY_MODEL_e93c734de0e54ac08fbef6cef5bda648"
      }
     },
     "cd752f44423d44adb79126472a3be99c": {
      "model_module": "@jupyter-widgets/base",
      "model_module_version": "2.0.0",
      "model_name": "LayoutModel",
      "state": {}
     },
     "d1a51306a0954ad9882996f8dc48a7b9": {
      "model_module": "@jupyter-widgets/controls",
      "model_module_version": "2.0.0",
      "model_name": "ProgressStyleModel",
      "state": {
       "description_width": ""
      }
     },
     "d5bfbff3b6174709ab5421a357f8adfd": {
      "model_module": "@jupyter-widgets/base",
      "model_module_version": "2.0.0",
      "model_name": "LayoutModel",
      "state": {}
     },
     "db2de47de5a74cadb1b1ccadb43f42ec": {
      "model_module": "@jupyter-widgets/base",
      "model_module_version": "2.0.0",
      "model_name": "LayoutModel",
      "state": {}
     },
     "dc788a7eb3164836ba7aa75b9584edc7": {
      "model_module": "@jupyter-widgets/controls",
      "model_module_version": "2.0.0",
      "model_name": "HTMLModel",
      "state": {
       "layout": "IPY_MODEL_f6b8a5bd7a714066ae499bdc0e72dd77",
       "style": "IPY_MODEL_19687322702b478d96e80f0f3698670e",
       "value": "100%"
      }
     },
     "e0994bf602824af48f5651ebb0f2f661": {
      "model_module": "@jupyter-widgets/controls",
      "model_module_version": "2.0.0",
      "model_name": "HTMLStyleModel",
      "state": {
       "description_width": "",
       "font_size": null,
       "text_color": null
      }
     },
     "e93c734de0e54ac08fbef6cef5bda648": {
      "model_module": "@jupyter-widgets/base",
      "model_module_version": "2.0.0",
      "model_name": "LayoutModel",
      "state": {}
     },
     "f6b8a5bd7a714066ae499bdc0e72dd77": {
      "model_module": "@jupyter-widgets/base",
      "model_module_version": "2.0.0",
      "model_name": "LayoutModel",
      "state": {}
     },
     "f7014ab114244707b4a532fbecfcbc71": {
      "model_module": "@jupyter-widgets/controls",
      "model_module_version": "2.0.0",
      "model_name": "HTMLModel",
      "state": {
       "layout": "IPY_MODEL_379c47d977664a02b7d472b4c0098ecc",
       "style": "IPY_MODEL_6e87875156904283a78839f268fc9a60",
       "value": " 0/100 [00:00&lt;?, ?it/s]"
      }
     },
     "fc4384a309f24ab2ae014e6323fdf892": {
      "model_module": "@jupyter-widgets/controls",
      "model_module_version": "2.0.0",
      "model_name": "HTMLModel",
      "state": {
       "layout": "IPY_MODEL_c196e4ae9daf48ca886ef27ed16101e6",
       "style": "IPY_MODEL_e0994bf602824af48f5651ebb0f2f661",
       "value": "100%"
      }
     },
     "ffedb865ecf244e7b5d1c91c9603483c": {
      "model_module": "@jupyter-widgets/base",
      "model_module_version": "2.0.0",
      "model_name": "LayoutModel",
      "state": {}
     }
    },
    "version_major": 2,
    "version_minor": 0
   }
  }
 },
 "nbformat": 4,
 "nbformat_minor": 5
}
