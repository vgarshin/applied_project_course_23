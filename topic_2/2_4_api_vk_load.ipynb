{
 "cells": [
  {
   "cell_type": "markdown",
   "metadata": {},
   "source": [
    "# Applied Project in Big Data on Industrial Dataset"
   ]
  },
  {
   "cell_type": "markdown",
   "metadata": {},
   "source": [
    "## DATA COLLECTION TECHNIQUES\n",
    "## Part IV. Get data from VK API"
   ]
  },
  {
   "cell_type": "markdown",
   "metadata": {},
   "source": [
    "### 1. Libraries and credentials"
   ]
  },
  {
   "cell_type": "code",
   "execution_count": null,
   "metadata": {},
   "outputs": [],
   "source": [
    "import os\n",
    "import json\n",
    "import requests"
   ]
  },
  {
   "cell_type": "code",
   "execution_count": null,
   "metadata": {},
   "outputs": [],
   "source": [
    "def access_data(file_path):\n",
    "    with open(file_path) as file:\n",
    "        access_data = json.load(file)\n",
    "    return access_data\n",
    "\n",
    "creds = access_data(file_path='access_vkapi.json')\n",
    "print(creds.keys())"
   ]
  },
  {
   "cell_type": "code",
   "execution_count": null,
   "metadata": {},
   "outputs": [],
   "source": [
    "VER = '5.126'\n",
    "TOKEN = creds['token']\n",
    "\n",
    "# Let's start from two GSOM groups in VK\n",
    "URL_SPBU = 'https://vk.com/gsom.spbu'\n",
    "URL_ABTR = 'https://vk.com/gsom_abiturient'\n",
    "GROUP_SPBU = 'gsom.spbu'\n",
    "GROUP_ABTR = 'gsom_abiturient'"
   ]
  },
  {
   "cell_type": "markdown",
   "metadata": {},
   "source": [
    "### 2. VK API first steps"
   ]
  },
  {
   "cell_type": "markdown",
   "metadata": {},
   "source": [
    "Complete manual for VK API is [here](https://dev.vk.com/api/getting-started)."
   ]
  },
  {
   "cell_type": "markdown",
   "metadata": {},
   "source": [
    "#### 2.1. Groups' descriptions"
   ]
  },
  {
   "cell_type": "code",
   "execution_count": null,
   "metadata": {},
   "outputs": [],
   "source": [
    "groups = GROUP_SPBU +',' + GROUP_ABTR\n",
    "method = 'groups.getById'\n",
    "fields = 'city,country,place,description,members_count'\n",
    "# all fields are here: https://vk.com/dev/objects/group"
   ]
  },
  {
   "cell_type": "code",
   "execution_count": null,
   "metadata": {},
   "outputs": [],
   "source": [
    "url = ''.join([\n",
    "    f'https://api.vk.com/method/{method}?',\n",
    "    f'group_ids={groups}',\n",
    "    f'&fields={fields}',\n",
    "    f'&access_token={TOKEN}',\n",
    "    f'&v={VER}'\n",
    "])\n",
    "print(url)"
   ]
  },
  {
   "cell_type": "code",
   "execution_count": null,
   "metadata": {},
   "outputs": [],
   "source": [
    "r = requests.get(url)"
   ]
  },
  {
   "cell_type": "code",
   "execution_count": null,
   "metadata": {},
   "outputs": [],
   "source": [
    "type(r)"
   ]
  },
  {
   "cell_type": "code",
   "execution_count": null,
   "metadata": {
    "scrolled": true,
    "tags": []
   },
   "outputs": [],
   "source": [
    "r.text"
   ]
  },
  {
   "cell_type": "code",
   "execution_count": null,
   "metadata": {
    "tags": []
   },
   "outputs": [],
   "source": [
    "r.json()"
   ]
  },
  {
   "cell_type": "code",
   "execution_count": null,
   "metadata": {},
   "outputs": [],
   "source": [
    "data = r.json()\n",
    "type(data)"
   ]
  },
  {
   "cell_type": "code",
   "execution_count": null,
   "metadata": {},
   "outputs": [],
   "source": [
    "data.keys()"
   ]
  },
  {
   "cell_type": "code",
   "execution_count": null,
   "metadata": {},
   "outputs": [],
   "source": [
    "type(data['response'])"
   ]
  },
  {
   "cell_type": "code",
   "execution_count": null,
   "metadata": {},
   "outputs": [],
   "source": [
    "len(data['response'])"
   ]
  },
  {
   "cell_type": "code",
   "execution_count": null,
   "metadata": {},
   "outputs": [],
   "source": [
    "data['response'][0].keys()"
   ]
  },
  {
   "cell_type": "code",
   "execution_count": null,
   "metadata": {},
   "outputs": [],
   "source": [
    "data['response'][1].keys()"
   ]
  },
  {
   "cell_type": "code",
   "execution_count": null,
   "metadata": {},
   "outputs": [],
   "source": [
    "for item in data['response']:\n",
    "    print('=' * 70)\n",
    "    for k, v in item.items():\n",
    "        print('-' * 70)\n",
    "        print('key:', k)\n",
    "        print('value:', v)"
   ]
  },
  {
   "cell_type": "markdown",
   "metadata": {},
   "source": [
    "We are going to collect data from `gsom_ma` VK group and we will need to get `id` of that group for further data:"
   ]
  },
  {
   "cell_type": "code",
   "execution_count": null,
   "metadata": {},
   "outputs": [],
   "source": [
    "groups = 'gsom_ma'\n",
    "method = 'groups.getById'\n",
    "fields = 'city,country,place,description,members_count'"
   ]
  },
  {
   "cell_type": "code",
   "execution_count": null,
   "metadata": {},
   "outputs": [],
   "source": [
    "url = ''.join([\n",
    "    f'https://api.vk.com/method/{method}?',\n",
    "    f'group_ids={groups}',\n",
    "    f'&fields={fields}',\n",
    "    f'&access_token={TOKEN}',\n",
    "    f'&v={VER}'\n",
    "])"
   ]
  },
  {
   "cell_type": "code",
   "execution_count": null,
   "metadata": {},
   "outputs": [],
   "source": [
    "r = requests.get(url)\n",
    "data = r.json()"
   ]
  },
  {
   "cell_type": "code",
   "execution_count": null,
   "metadata": {},
   "outputs": [],
   "source": [
    "id_gsom_ma = data['response'][0]['id']\n",
    "print(id_gsom_ma)"
   ]
  },
  {
   "cell_type": "markdown",
   "metadata": {},
   "source": [
    "#### 2.2. Get data on walls"
   ]
  },
  {
   "cell_type": "markdown",
   "metadata": {},
   "source": [
    "Here we can get all records from the wall of the selected group. The method [wall.get](https://dev.vk.com/method/wall.get) is used for that purpose."
   ]
  },
  {
   "cell_type": "code",
   "execution_count": null,
   "metadata": {},
   "outputs": [],
   "source": [
    "owner_id = id_gsom_ma\n",
    "offset = 0 # to start with\n",
    "count = 5 # how many recoeds to get\n",
    "method = 'wall.get'"
   ]
  },
  {
   "cell_type": "code",
   "execution_count": null,
   "metadata": {},
   "outputs": [],
   "source": [
    "url = ''.join([\n",
    "    f'https://api.vk.com/method/{method}?',\n",
    "    f'owner_id=-{owner_id}',\n",
    "    f'&offset={offset}',\n",
    "    f'&count={count}',\n",
    "    f'&access_token={TOKEN}',\n",
    "    f'&v={VER}'\n",
    "])\n",
    "r = requests.get(url)\n",
    "data = r.json()"
   ]
  },
  {
   "cell_type": "code",
   "execution_count": null,
   "metadata": {},
   "outputs": [],
   "source": [
    "data.keys()"
   ]
  },
  {
   "cell_type": "code",
   "execution_count": null,
   "metadata": {},
   "outputs": [],
   "source": [
    "len(data['response'])"
   ]
  },
  {
   "cell_type": "code",
   "execution_count": null,
   "metadata": {},
   "outputs": [],
   "source": [
    "data['response'].keys()"
   ]
  },
  {
   "cell_type": "code",
   "execution_count": null,
   "metadata": {},
   "outputs": [],
   "source": [
    "# how many records are on the wall\n",
    "data['response']['count']"
   ]
  },
  {
   "cell_type": "code",
   "execution_count": null,
   "metadata": {},
   "outputs": [],
   "source": [
    "# data on records itself\n",
    "len(data['response']['items'])"
   ]
  },
  {
   "cell_type": "code",
   "execution_count": null,
   "metadata": {
    "tags": []
   },
   "outputs": [],
   "source": [
    "data['response']['items'][0]"
   ]
  },
  {
   "cell_type": "code",
   "execution_count": null,
   "metadata": {},
   "outputs": [],
   "source": [
    "# NOTE: date as Unix timestamp\n",
    "\n",
    "data['response']['items'][0]['date']"
   ]
  },
  {
   "cell_type": "code",
   "execution_count": null,
   "metadata": {},
   "outputs": [],
   "source": [
    "import datetime\n",
    "date = datetime.datetime.fromtimestamp(data['response']['items'][0]['date'])\n",
    "date"
   ]
  },
  {
   "cell_type": "code",
   "execution_count": null,
   "metadata": {
    "tags": []
   },
   "outputs": [],
   "source": [
    "for item in data['response']['items']:\n",
    "    print('=' * 70)\n",
    "    print('id:', item['id'], \n",
    "          '| date:', datetime.datetime.fromtimestamp(item['date']), \n",
    "          '\\n', item['text'], '\\n')"
   ]
  },
  {
   "cell_type": "markdown",
   "metadata": {},
   "source": [
    "Now let's draw a barplot for posts' views that depend on time. So the task is:\n",
    "1. Load from 10 to 20 records (posts) from the group\n",
    "2. Extract data on posts' views (`views` and `count` keys), and the timestamps for the posts (`date` key)\n",
    "3. Draw a barplot for `views` depending on time"
   ]
  },
  {
   "cell_type": "code",
   "execution_count": null,
   "metadata": {},
   "outputs": [],
   "source": [
    "owner_id = id_gsom_ma\n",
    "offset = 0 # to start with\n",
    "count = 30 # how many recoeds to get\n",
    "method = 'wall.get'\n",
    "url = ''.join([\n",
    "    f'https://api.vk.com/method/{method}?',\n",
    "    f'owner_id=-{owner_id}',\n",
    "    f'&offset={offset}',\n",
    "    f'&count={count}',\n",
    "    f'&access_token={TOKEN}',\n",
    "    f'&v={VER}'\n",
    "])\n",
    "r = requests.get(url)\n",
    "data = r.json()"
   ]
  },
  {
   "cell_type": "code",
   "execution_count": null,
   "metadata": {},
   "outputs": [],
   "source": [
    "dates = []\n",
    "views = []\n",
    "for item in data['response']['items']:\n",
    "    dates.append(datetime.datetime.fromtimestamp(item['date']))\n",
    "    views.append(item['views']['count'])"
   ]
  },
  {
   "cell_type": "code",
   "execution_count": null,
   "metadata": {},
   "outputs": [],
   "source": [
    "import matplotlib.pyplot as plt\n",
    "\n",
    "plt.figure(figsize=(16, 4))\n",
    "plt.bar(dates, views)\n",
    "plt.xticks(dates, rotation='vertical')\n",
    "plt.show()"
   ]
  },
  {
   "cell_type": "markdown",
   "metadata": {},
   "source": [
    "### 3. VK API headhunt"
   ]
  },
  {
   "cell_type": "markdown",
   "metadata": {},
   "source": [
    "We can get the data not only on the groups but also on the members of that groups:\n",
    "- method [`getMembers`](https://dev.vk.com/method/groups.getMembers) to get list of members\n",
    "- method [`users/get`](https://dev.vk.com/method/users.get) to get the data on specified users"
   ]
  },
  {
   "cell_type": "markdown",
   "metadata": {},
   "source": [
    "#### 3.1. Get all members of the group"
   ]
  },
  {
   "cell_type": "code",
   "execution_count": null,
   "metadata": {},
   "outputs": [],
   "source": [
    "group_name = 'gsom_ma'\n",
    "offset = 0 # to start from\n",
    "count = 100 # number of members to get their ids\n",
    "method = 'groups.getMembers'"
   ]
  },
  {
   "cell_type": "code",
   "execution_count": null,
   "metadata": {},
   "outputs": [],
   "source": [
    "url = ''.join([\n",
    "    f'https://api.vk.com/method/{method}?',\n",
    "    f'group_id={group_name}',\n",
    "    f'&offset={offset}',\n",
    "    f'&count={count}',\n",
    "    f'&access_token={TOKEN}',\n",
    "    f'&v={VER}'\n",
    "])\n",
    "print(url)"
   ]
  },
  {
   "cell_type": "code",
   "execution_count": null,
   "metadata": {},
   "outputs": [],
   "source": [
    "r = requests.get(url)\n",
    "data = r.json()\n",
    "print(\n",
    "    'group:', group_name,\n",
    "    '| total members:', data['response']['count'], \n",
    "    '| loaded:', len(data['response']['items'])\n",
    ")"
   ]
  },
  {
   "cell_type": "code",
   "execution_count": null,
   "metadata": {
    "tags": []
   },
   "outputs": [],
   "source": [
    "data['response']"
   ]
  },
  {
   "cell_type": "code",
   "execution_count": null,
   "metadata": {},
   "outputs": [],
   "source": [
    "list_of_members = data['response']['items']\n",
    "print(len(list_of_members))"
   ]
  },
  {
   "cell_type": "code",
   "execution_count": null,
   "metadata": {},
   "outputs": [],
   "source": [
    "list_of_members[:10]"
   ]
  },
  {
   "cell_type": "markdown",
   "metadata": {},
   "source": [
    "#### 3.2. Get data on the one member"
   ]
  },
  {
   "cell_type": "code",
   "execution_count": null,
   "metadata": {},
   "outputs": [],
   "source": [
    "group_name = 'gsom.spbu'\n",
    "method = 'users.get'\n",
    "user = '1212'"
   ]
  },
  {
   "cell_type": "code",
   "execution_count": null,
   "metadata": {},
   "outputs": [],
   "source": [
    "# all fields https://vk.com/dev/objects/user\n",
    "fields = 'sex,bdate,city,country,home_town,education,universities,schools,status,last_seen,occupation'"
   ]
  },
  {
   "cell_type": "code",
   "execution_count": null,
   "metadata": {},
   "outputs": [],
   "source": [
    "url = ''.join([\n",
    "    f'https://api.vk.com/method/{method}?',\n",
    "    f'user_ids={user}',\n",
    "    f'&fields={fields}',\n",
    "    f'&access_token={TOKEN}',\n",
    "    f'&v={VER}'\n",
    "])\n",
    "print(url)"
   ]
  },
  {
   "cell_type": "code",
   "execution_count": null,
   "metadata": {},
   "outputs": [],
   "source": [
    "r = requests.get(url)\n",
    "data = r.json()"
   ]
  },
  {
   "cell_type": "code",
   "execution_count": null,
   "metadata": {
    "tags": []
   },
   "outputs": [],
   "source": [
    "data"
   ]
  },
  {
   "cell_type": "markdown",
   "metadata": {},
   "source": [
    "#### 3.3. Get data on the wall"
   ]
  },
  {
   "cell_type": "markdown",
   "metadata": {},
   "source": [
    "The same method as for the groups!"
   ]
  },
  {
   "cell_type": "code",
   "execution_count": null,
   "metadata": {},
   "outputs": [],
   "source": [
    "owner_id = '1212'\n",
    "offset = 0\n",
    "count = 20\n",
    "method = 'wall.get'"
   ]
  },
  {
   "cell_type": "code",
   "execution_count": null,
   "metadata": {},
   "outputs": [],
   "source": [
    "url = ''.join([\n",
    "    f'https://api.vk.com/method/{method}?',\n",
    "    f'owner_id=-{owner_id}',\n",
    "    f'&offset={offset}',\n",
    "    f'&count={count}',\n",
    "    f'&access_token={TOKEN}',\n",
    "    f'&v={VER}'\n",
    "])\n",
    "r = requests.get(url)\n",
    "data = r.json()"
   ]
  },
  {
   "cell_type": "code",
   "execution_count": null,
   "metadata": {
    "tags": []
   },
   "outputs": [],
   "source": [
    "data"
   ]
  },
  {
   "cell_type": "code",
   "execution_count": null,
   "metadata": {},
   "outputs": [],
   "source": [
    "folder = 'walls_data'\n",
    "os.makedirs(folder, exist_ok=True)"
   ]
  },
  {
   "cell_type": "code",
   "execution_count": null,
   "metadata": {},
   "outputs": [],
   "source": [
    "import time\n",
    "from tqdm.auto import tqdm\n",
    "from random import uniform\n",
    "\n",
    "offset = 0\n",
    "count = 20\n",
    "method = 'wall.get'\n",
    "\n",
    "for user_id in tqdm(list_of_members):\n",
    "    url = ''.join([\n",
    "        f'https://api.vk.com/method/{method}?',\n",
    "        f'owner_id=-{user_id}',\n",
    "        f'&offset={offset}',\n",
    "        f'&count={count}',\n",
    "        f'&access_token={TOKEN}',\n",
    "        f'&v={VER}'\n",
    "    ])\n",
    "    r = requests.get(url)\n",
    "    data = r.json()\n",
    "    if 'response' in data.keys():\n",
    "        file_path = f'{folder}/{user_id}.json'\n",
    "        with open(file_path, 'w') as file:\n",
    "            json.dump(data, file)\n",
    "    else:\n",
    "        print(data.keys())\n",
    "    time.sleep(uniform(.1, 1.1))"
   ]
  },
  {
   "cell_type": "markdown",
   "metadata": {},
   "source": [
    "#### 3.3. Process data on the wall"
   ]
  },
  {
   "cell_type": "code",
   "execution_count": null,
   "metadata": {},
   "outputs": [],
   "source": [
    "file_list = os.listdir(folder)"
   ]
  },
  {
   "cell_type": "code",
   "execution_count": null,
   "metadata": {},
   "outputs": [],
   "source": [
    "import pandas as pd\n",
    "\n",
    "dfs = [] # an empty list to store the data frames\n",
    "for file_name in file_list:\n",
    "    if 'json' in file_name:\n",
    "        data = pd.read_json(\n",
    "            f'{folder}/{file_name}', \n",
    "            lines=True\n",
    "        ) # read data frame from json file\n",
    "    dfs.append(data) # append the data frame to the list\n",
    "df = pd.concat(dfs, ignore_index=True) # concatenate all the data frames in the list.\n",
    "df.head()"
   ]
  },
  {
   "cell_type": "code",
   "execution_count": null,
   "metadata": {
    "scrolled": true
   },
   "outputs": [],
   "source": [
    "all_data = []\n",
    "for file_name in file_list:\n",
    "    if 'json' in file_name:\n",
    "        with open(f'{folder}/{file_name}') as file:\n",
    "            data = json.load(file)\n",
    "        all_data.extend(data['response']['items'])\n",
    "df = pd.DataFrame(all_data)\n",
    "df.head()"
   ]
  },
  {
   "cell_type": "code",
   "execution_count": null,
   "metadata": {},
   "outputs": [],
   "source": [
    "pd.set_option('display.max_columns', None)\n",
    "\n",
    "all_data = []\n",
    "for file_name in file_list:\n",
    "    if 'json' in file_name:\n",
    "        with open(f'{folder}/{file_name}') as file:\n",
    "            data = json.load(file)\n",
    "        all_data.append(pd.json_normalize(data['response']['items']))\n",
    "df = pd.concat(all_data, ignore_index=True) # concatenate all the data frames in the list.\n",
    "df.head()"
   ]
  },
  {
   "cell_type": "code",
   "execution_count": null,
   "metadata": {},
   "outputs": [],
   "source": [
    "df['owner_id'] = df['owner_id'].astype(str)"
   ]
  },
  {
   "cell_type": "code",
   "execution_count": null,
   "metadata": {},
   "outputs": [],
   "source": [
    "df.groupby(by='owner_id')['likes.count'].sum()"
   ]
  },
  {
   "cell_type": "code",
   "execution_count": null,
   "metadata": {},
   "outputs": [],
   "source": [
    "plt.figure(figsize=(16, 4))\n",
    "df.groupby(by='owner_id')['likes.count'].sum().plot(kind='bar')\n",
    "plt.xticks(rotation='vertical')\n",
    "plt.show()"
   ]
  },
  {
   "cell_type": "markdown",
   "metadata": {},
   "source": [
    "We have already seen how to get data jn one member of the group with metod `users.get`, but this method can take many members' ids at once:"
   ]
  },
  {
   "cell_type": "code",
   "execution_count": null,
   "metadata": {
    "tags": []
   },
   "outputs": [],
   "source": [
    "# let's take ALL the members\n",
    "list_of_members"
   ]
  },
  {
   "cell_type": "code",
   "execution_count": null,
   "metadata": {},
   "outputs": [],
   "source": [
    "# all fields that can be collected\n",
    "# see at manual https://vk.com/dev/objects/user\n",
    "\n",
    "group_name = 'gsom.spbu'\n",
    "method = 'users.get'\n",
    "users = ','.join([str(x) for x in list_of_members])\n",
    "fields = 'sex,bdate,city,country,home_town,education,universities,schools,status,last_seen,occupation'\n",
    "url = ''.join([\n",
    "    f'https://api.vk.com/method/{method}?',\n",
    "    f'user_ids={users}',\n",
    "    f'&fields={fields}',\n",
    "    f'&access_token={TOKEN}',\n",
    "    f'&v={VER}'\n",
    "])\n",
    "r = requests.get(url)\n",
    "data = r.json()"
   ]
  },
  {
   "cell_type": "code",
   "execution_count": null,
   "metadata": {
    "tags": []
   },
   "outputs": [],
   "source": [
    "for item in data['response']:\n",
    "    print('-' * 70)\n",
    "    print(\n",
    "        'id:', item['id'],\n",
    "        '\\nfirst name:', item['first_name'], \n",
    "        '\\nlast name:', item['last_name']\n",
    "    )\n",
    "    try:\n",
    "        print(\n",
    "            '\\nbirth date:', item['bdate'], \n",
    "            '\\nhome town:', item['home_town'], \n",
    "            '\\nstatus:', item['status']\n",
    "        )\n",
    "    except:\n",
    "        print('no more data')"
   ]
  },
  {
   "cell_type": "code",
   "execution_count": null,
   "metadata": {},
   "outputs": [],
   "source": [
    "univers = [x['universities'] for x in data['response'] if 'universities' in x.keys()]\n",
    "univers = [item for sublist in univers for item in sublist]\n",
    "univers = [x['name'] for x in univers]\n",
    "univers"
   ]
  },
  {
   "cell_type": "code",
   "execution_count": null,
   "metadata": {
    "tags": []
   },
   "outputs": [],
   "source": [
    "len(set(univers))"
   ]
  },
  {
   "cell_type": "code",
   "execution_count": null,
   "metadata": {},
   "outputs": [],
   "source": [
    "from collections import Counter"
   ]
  },
  {
   "cell_type": "code",
   "execution_count": null,
   "metadata": {},
   "outputs": [],
   "source": [
    "freqs = dict(Counter(univers))"
   ]
  },
  {
   "cell_type": "code",
   "execution_count": null,
   "metadata": {},
   "outputs": [],
   "source": [
    "freqs = dict(\n",
    "    sorted(\n",
    "        freqs.items(), \n",
    "        key=lambda item: item[1], \n",
    "        reverse=True\n",
    "    )\n",
    ")\n",
    "freqs"
   ]
  },
  {
   "cell_type": "code",
   "execution_count": null,
   "metadata": {},
   "outputs": [],
   "source": [
    "plt.figure(figsize=(16, 6))\n",
    "plt.bar(*zip(*freqs.items()))\n",
    "plt.xticks(rotation='vertical')\n",
    "plt.show()"
   ]
  },
  {
   "cell_type": "code",
   "execution_count": null,
   "metadata": {},
   "outputs": [],
   "source": []
  }
 ],
 "metadata": {
  "kernelspec": {
   "display_name": "Python 3 (ipykernel)",
   "language": "python",
   "name": "python3"
  },
  "language_info": {
   "codemirror_mode": {
    "name": "ipython",
    "version": 3
   },
   "file_extension": ".py",
   "mimetype": "text/x-python",
   "name": "python",
   "nbconvert_exporter": "python",
   "pygments_lexer": "ipython3",
   "version": "3.10.8"
  },
  "widgets": {
   "application/vnd.jupyter.widget-state+json": {
    "state": {
     "09a89c69b57f4da3aa36608ae936925b": {
      "model_module": "@jupyter-widgets/base",
      "model_module_version": "2.0.0",
      "model_name": "LayoutModel",
      "state": {}
     },
     "0a1a6b4e85ff4eb0ae12a3bcfe8fd6bd": {
      "model_module": "@jupyter-widgets/base",
      "model_module_version": "2.0.0",
      "model_name": "LayoutModel",
      "state": {}
     },
     "0fa8b01a935f4d489a1fbb9853be2aa5": {
      "model_module": "@jupyter-widgets/controls",
      "model_module_version": "2.0.0",
      "model_name": "HTMLStyleModel",
      "state": {
       "description_width": "",
       "font_size": null,
       "text_color": null
      }
     },
     "1261608806294fe48ece7f4dcf9a9a2d": {
      "model_module": "@jupyter-widgets/controls",
      "model_module_version": "2.0.0",
      "model_name": "FloatProgressModel",
      "state": {
       "bar_style": "success",
       "layout": "IPY_MODEL_09a89c69b57f4da3aa36608ae936925b",
       "style": "IPY_MODEL_5414fa7eb3624f19b5a39d891de21a0d",
       "value": 100
      }
     },
     "128741f207a040ba93954f3792b7ee1f": {
      "model_module": "@jupyter-widgets/controls",
      "model_module_version": "2.0.0",
      "model_name": "ProgressStyleModel",
      "state": {
       "description_width": ""
      }
     },
     "15ea0c07063c4704849eba3a4218c140": {
      "model_module": "@jupyter-widgets/controls",
      "model_module_version": "2.0.0",
      "model_name": "FloatProgressModel",
      "state": {
       "bar_style": "danger",
       "layout": "IPY_MODEL_cffceea0b05342aea78e82861e493045",
       "style": "IPY_MODEL_128741f207a040ba93954f3792b7ee1f",
       "value": 40
      }
     },
     "1d774e9309284403a3322d13e4186099": {
      "model_module": "@jupyter-widgets/controls",
      "model_module_version": "2.0.0",
      "model_name": "HTMLModel",
      "state": {
       "layout": "IPY_MODEL_b12026bda2544436a47efd0dc0cd5ab9",
       "style": "IPY_MODEL_634e9fbdc49e45f698179a55f9d133b4",
       "value": " 100/100 [01:15&lt;00:00,  1.28it/s]"
      }
     },
     "286842dedfa04e9c8adb23eaba9aba81": {
      "model_module": "@jupyter-widgets/base",
      "model_module_version": "2.0.0",
      "model_name": "LayoutModel",
      "state": {}
     },
     "3334159af94c41e7b09eefaae261f353": {
      "model_module": "@jupyter-widgets/base",
      "model_module_version": "2.0.0",
      "model_name": "LayoutModel",
      "state": {}
     },
     "38274d411b0648b28c624da5354068c8": {
      "model_module": "@jupyter-widgets/controls",
      "model_module_version": "2.0.0",
      "model_name": "HTMLStyleModel",
      "state": {
       "description_width": "",
       "font_size": null,
       "text_color": null
      }
     },
     "385859f216c64fbe98dcf158a6885d76": {
      "model_module": "@jupyter-widgets/base",
      "model_module_version": "2.0.0",
      "model_name": "LayoutModel",
      "state": {}
     },
     "3951553e0c664e9e9cebaf041e6fa079": {
      "model_module": "@jupyter-widgets/base",
      "model_module_version": "2.0.0",
      "model_name": "LayoutModel",
      "state": {}
     },
     "42a98fe985744f2db1543fa184d4d966": {
      "model_module": "@jupyter-widgets/base",
      "model_module_version": "2.0.0",
      "model_name": "LayoutModel",
      "state": {}
     },
     "42f6f0d0169f423eaba786b9ec8ad8bd": {
      "model_module": "@jupyter-widgets/controls",
      "model_module_version": "2.0.0",
      "model_name": "HTMLModel",
      "state": {
       "layout": "IPY_MODEL_aac54d087b9b40b083158f1aaa1ad8ee",
       "style": "IPY_MODEL_0fa8b01a935f4d489a1fbb9853be2aa5",
       "value": " 100/100 [01:08&lt;00:00,  1.89it/s]"
      }
     },
     "49249be254ac4ae08772ca38d554ce67": {
      "model_module": "@jupyter-widgets/controls",
      "model_module_version": "2.0.0",
      "model_name": "FloatProgressModel",
      "state": {
       "bar_style": "success",
       "layout": "IPY_MODEL_b3c2727973b443a9933175e7a624923d",
       "style": "IPY_MODEL_7d603ef05b2941ec80f3917c0cc5d383",
       "value": 100
      }
     },
     "4cc295173e5d4aea8ec5828333d43ac6": {
      "model_module": "@jupyter-widgets/controls",
      "model_module_version": "2.0.0",
      "model_name": "HTMLModel",
      "state": {
       "layout": "IPY_MODEL_5e38df2cbcfe49fcbe671cfe66a51d12",
       "style": "IPY_MODEL_38274d411b0648b28c624da5354068c8",
       "value": "100%"
      }
     },
     "506ce38690934536963d2fb03943418b": {
      "model_module": "@jupyter-widgets/base",
      "model_module_version": "2.0.0",
      "model_name": "LayoutModel",
      "state": {}
     },
     "51282608c2884ab78da34f1464e6c56f": {
      "model_module": "@jupyter-widgets/base",
      "model_module_version": "2.0.0",
      "model_name": "LayoutModel",
      "state": {}
     },
     "5414fa7eb3624f19b5a39d891de21a0d": {
      "model_module": "@jupyter-widgets/controls",
      "model_module_version": "2.0.0",
      "model_name": "ProgressStyleModel",
      "state": {
       "description_width": ""
      }
     },
     "5758ab20d8b445b98f0e858eeb7e59af": {
      "model_module": "@jupyter-widgets/controls",
      "model_module_version": "2.0.0",
      "model_name": "HTMLStyleModel",
      "state": {
       "description_width": "",
       "font_size": null,
       "text_color": null
      }
     },
     "5e38df2cbcfe49fcbe671cfe66a51d12": {
      "model_module": "@jupyter-widgets/base",
      "model_module_version": "2.0.0",
      "model_name": "LayoutModel",
      "state": {}
     },
     "615e67394ca14c5cb9d884e42db68559": {
      "model_module": "@jupyter-widgets/base",
      "model_module_version": "2.0.0",
      "model_name": "LayoutModel",
      "state": {}
     },
     "634e9fbdc49e45f698179a55f9d133b4": {
      "model_module": "@jupyter-widgets/controls",
      "model_module_version": "2.0.0",
      "model_name": "HTMLStyleModel",
      "state": {
       "description_width": "",
       "font_size": null,
       "text_color": null
      }
     },
     "653039e2c7f24d8d89b9356c708a85e0": {
      "model_module": "@jupyter-widgets/controls",
      "model_module_version": "2.0.0",
      "model_name": "HTMLModel",
      "state": {
       "layout": "IPY_MODEL_9c4ba8e9e6734534b62b48c687caa5bf",
       "style": "IPY_MODEL_c0ba2bfd7d754283b65b2b5be7245515",
       "value": " 100/100 [01:14&lt;00:00,  1.69it/s]"
      }
     },
     "683491ff757f4cc18403ac6a10c5c29c": {
      "model_module": "@jupyter-widgets/controls",
      "model_module_version": "2.0.0",
      "model_name": "HTMLModel",
      "state": {
       "layout": "IPY_MODEL_0a1a6b4e85ff4eb0ae12a3bcfe8fd6bd",
       "style": "IPY_MODEL_96fdd272b92e43a98629388f8489c34a",
       "value": " 40/100 [00:46&lt;01:07,  1.13s/it]"
      }
     },
     "6a7bfcc1fb53474fa1ffc5139cac2c7a": {
      "model_module": "@jupyter-widgets/controls",
      "model_module_version": "2.0.0",
      "model_name": "ProgressStyleModel",
      "state": {
       "description_width": ""
      }
     },
     "6cbca97aa26046048dba8a2a1b411a58": {
      "model_module": "@jupyter-widgets/controls",
      "model_module_version": "2.0.0",
      "model_name": "HTMLStyleModel",
      "state": {
       "description_width": "",
       "font_size": null,
       "text_color": null
      }
     },
     "6f4fff959cbb4c07bcb33d6c00ce5fab": {
      "model_module": "@jupyter-widgets/controls",
      "model_module_version": "2.0.0",
      "model_name": "FloatProgressModel",
      "state": {
       "bar_style": "success",
       "layout": "IPY_MODEL_51282608c2884ab78da34f1464e6c56f",
       "style": "IPY_MODEL_df4c8e9e8bae4fbbb1eaa3bc18e91ae4",
       "value": 100
      }
     },
     "729e217cf9914848802d5f5ae853c57e": {
      "model_module": "@jupyter-widgets/controls",
      "model_module_version": "2.0.0",
      "model_name": "HBoxModel",
      "state": {
       "children": [
        "IPY_MODEL_a8bcf7a30a764cb3aeac8cdf858d39c6",
        "IPY_MODEL_49249be254ac4ae08772ca38d554ce67",
        "IPY_MODEL_42f6f0d0169f423eaba786b9ec8ad8bd"
       ],
       "layout": "IPY_MODEL_42a98fe985744f2db1543fa184d4d966"
      }
     },
     "72d51728d5fe4f6fb83792835b2167ca": {
      "model_module": "@jupyter-widgets/controls",
      "model_module_version": "2.0.0",
      "model_name": "FloatProgressModel",
      "state": {
       "bar_style": "success",
       "layout": "IPY_MODEL_615e67394ca14c5cb9d884e42db68559",
       "style": "IPY_MODEL_6a7bfcc1fb53474fa1ffc5139cac2c7a",
       "value": 100
      }
     },
     "7d603ef05b2941ec80f3917c0cc5d383": {
      "model_module": "@jupyter-widgets/controls",
      "model_module_version": "2.0.0",
      "model_name": "ProgressStyleModel",
      "state": {
       "description_width": ""
      }
     },
     "86e771f5aa6e4e6a8a4ff0329d81d47a": {
      "model_module": "@jupyter-widgets/base",
      "model_module_version": "2.0.0",
      "model_name": "LayoutModel",
      "state": {}
     },
     "89c0d58f528d4f4fa0ba3ab2507fde29": {
      "model_module": "@jupyter-widgets/controls",
      "model_module_version": "2.0.0",
      "model_name": "HTMLStyleModel",
      "state": {
       "description_width": "",
       "font_size": null,
       "text_color": null
      }
     },
     "93ad5dfa7b9948f0946a89f4fb489941": {
      "model_module": "@jupyter-widgets/controls",
      "model_module_version": "2.0.0",
      "model_name": "HTMLModel",
      "state": {
       "layout": "IPY_MODEL_385859f216c64fbe98dcf158a6885d76",
       "style": "IPY_MODEL_89c0d58f528d4f4fa0ba3ab2507fde29",
       "value": " 40%"
      }
     },
     "96fdd272b92e43a98629388f8489c34a": {
      "model_module": "@jupyter-widgets/controls",
      "model_module_version": "2.0.0",
      "model_name": "HTMLStyleModel",
      "state": {
       "description_width": "",
       "font_size": null,
       "text_color": null
      }
     },
     "9c4ba8e9e6734534b62b48c687caa5bf": {
      "model_module": "@jupyter-widgets/base",
      "model_module_version": "2.0.0",
      "model_name": "LayoutModel",
      "state": {}
     },
     "a24dfa18f8124db9a8810886a1c9191f": {
      "model_module": "@jupyter-widgets/controls",
      "model_module_version": "2.0.0",
      "model_name": "HTMLStyleModel",
      "state": {
       "description_width": "",
       "font_size": null,
       "text_color": null
      }
     },
     "a8b832fad31f4128994fa9174609bdf0": {
      "model_module": "@jupyter-widgets/base",
      "model_module_version": "2.0.0",
      "model_name": "LayoutModel",
      "state": {}
     },
     "a8bcf7a30a764cb3aeac8cdf858d39c6": {
      "model_module": "@jupyter-widgets/controls",
      "model_module_version": "2.0.0",
      "model_name": "HTMLModel",
      "state": {
       "layout": "IPY_MODEL_3951553e0c664e9e9cebaf041e6fa079",
       "style": "IPY_MODEL_6cbca97aa26046048dba8a2a1b411a58",
       "value": "100%"
      }
     },
     "aac54d087b9b40b083158f1aaa1ad8ee": {
      "model_module": "@jupyter-widgets/base",
      "model_module_version": "2.0.0",
      "model_name": "LayoutModel",
      "state": {}
     },
     "abb832abf39b49858851ec0fd3f57def": {
      "model_module": "@jupyter-widgets/base",
      "model_module_version": "2.0.0",
      "model_name": "LayoutModel",
      "state": {}
     },
     "b12026bda2544436a47efd0dc0cd5ab9": {
      "model_module": "@jupyter-widgets/base",
      "model_module_version": "2.0.0",
      "model_name": "LayoutModel",
      "state": {}
     },
     "b3c2727973b443a9933175e7a624923d": {
      "model_module": "@jupyter-widgets/base",
      "model_module_version": "2.0.0",
      "model_name": "LayoutModel",
      "state": {}
     },
     "bcc9fe91fa764b198f8026efba63c063": {
      "model_module": "@jupyter-widgets/controls",
      "model_module_version": "2.0.0",
      "model_name": "HTMLStyleModel",
      "state": {
       "description_width": "",
       "font_size": null,
       "text_color": null
      }
     },
     "c0ba2bfd7d754283b65b2b5be7245515": {
      "model_module": "@jupyter-widgets/controls",
      "model_module_version": "2.0.0",
      "model_name": "HTMLStyleModel",
      "state": {
       "description_width": "",
       "font_size": null,
       "text_color": null
      }
     },
     "c1dfb89f59bc427390144a1dea50c217": {
      "model_module": "@jupyter-widgets/base",
      "model_module_version": "2.0.0",
      "model_name": "LayoutModel",
      "state": {}
     },
     "cffceea0b05342aea78e82861e493045": {
      "model_module": "@jupyter-widgets/base",
      "model_module_version": "2.0.0",
      "model_name": "LayoutModel",
      "state": {}
     },
     "d2fe7cc1ac5641f48997eb6cc7ef85c6": {
      "model_module": "@jupyter-widgets/controls",
      "model_module_version": "2.0.0",
      "model_name": "HTMLModel",
      "state": {
       "layout": "IPY_MODEL_a8b832fad31f4128994fa9174609bdf0",
       "style": "IPY_MODEL_a24dfa18f8124db9a8810886a1c9191f",
       "value": "100%"
      }
     },
     "df4c8e9e8bae4fbbb1eaa3bc18e91ae4": {
      "model_module": "@jupyter-widgets/controls",
      "model_module_version": "2.0.0",
      "model_name": "ProgressStyleModel",
      "state": {
       "description_width": ""
      }
     },
     "df657ccdf4704a5183b0f36f3acebb55": {
      "model_module": "@jupyter-widgets/controls",
      "model_module_version": "2.0.0",
      "model_name": "HBoxModel",
      "state": {
       "children": [
        "IPY_MODEL_d2fe7cc1ac5641f48997eb6cc7ef85c6",
        "IPY_MODEL_72d51728d5fe4f6fb83792835b2167ca",
        "IPY_MODEL_1d774e9309284403a3322d13e4186099"
       ],
       "layout": "IPY_MODEL_c1dfb89f59bc427390144a1dea50c217"
      }
     },
     "e10f55b2a77346b481da6d209e5d4a6d": {
      "model_module": "@jupyter-widgets/controls",
      "model_module_version": "2.0.0",
      "model_name": "HBoxModel",
      "state": {
       "children": [
        "IPY_MODEL_93ad5dfa7b9948f0946a89f4fb489941",
        "IPY_MODEL_15ea0c07063c4704849eba3a4218c140",
        "IPY_MODEL_683491ff757f4cc18403ac6a10c5c29c"
       ],
       "layout": "IPY_MODEL_286842dedfa04e9c8adb23eaba9aba81"
      }
     },
     "e1d829930a1c4146a1acf93ca90cb5cd": {
      "model_module": "@jupyter-widgets/controls",
      "model_module_version": "2.0.0",
      "model_name": "HTMLModel",
      "state": {
       "layout": "IPY_MODEL_3334159af94c41e7b09eefaae261f353",
       "style": "IPY_MODEL_bcc9fe91fa764b198f8026efba63c063",
       "value": "100%"
      }
     },
     "ebb0cf61deaa4374b9bc34adbfadcd61": {
      "model_module": "@jupyter-widgets/controls",
      "model_module_version": "2.0.0",
      "model_name": "HBoxModel",
      "state": {
       "children": [
        "IPY_MODEL_4cc295173e5d4aea8ec5828333d43ac6",
        "IPY_MODEL_1261608806294fe48ece7f4dcf9a9a2d",
        "IPY_MODEL_653039e2c7f24d8d89b9356c708a85e0"
       ],
       "layout": "IPY_MODEL_86e771f5aa6e4e6a8a4ff0329d81d47a"
      }
     },
     "ed1dbaeceff54a1dabde8cdcaf53b022": {
      "model_module": "@jupyter-widgets/controls",
      "model_module_version": "2.0.0",
      "model_name": "HTMLModel",
      "state": {
       "layout": "IPY_MODEL_506ce38690934536963d2fb03943418b",
       "style": "IPY_MODEL_5758ab20d8b445b98f0e858eeb7e59af",
       "value": " 100/100 [01:16&lt;00:00,  1.32it/s]"
      }
     },
     "f0e4403f08924769900bcc7652c3cfe5": {
      "model_module": "@jupyter-widgets/controls",
      "model_module_version": "2.0.0",
      "model_name": "HBoxModel",
      "state": {
       "children": [
        "IPY_MODEL_e1d829930a1c4146a1acf93ca90cb5cd",
        "IPY_MODEL_6f4fff959cbb4c07bcb33d6c00ce5fab",
        "IPY_MODEL_ed1dbaeceff54a1dabde8cdcaf53b022"
       ],
       "layout": "IPY_MODEL_abb832abf39b49858851ec0fd3f57def"
      }
     }
    },
    "version_major": 2,
    "version_minor": 0
   }
  }
 },
 "nbformat": 4,
 "nbformat_minor": 4
}
