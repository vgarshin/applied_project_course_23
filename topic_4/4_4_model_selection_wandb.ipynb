{
 "cells": [
  {
   "cell_type": "markdown",
   "id": "separated-repair",
   "metadata": {},
   "source": [
    "# Applied Project in Big Data on Industrial Dataset"
   ]
  },
  {
   "cell_type": "markdown",
   "id": "placed-convention",
   "metadata": {},
   "source": [
    "## MODELS SELECTION TECHNIQUES\n",
    "## Part IV. Weights and Biases platform to manage experiments"
   ]
  },
  {
   "cell_type": "markdown",
   "id": "artificial-immune",
   "metadata": {},
   "source": [
    "### 1. Libraries"
   ]
  },
  {
   "cell_type": "code",
   "execution_count": null,
   "id": "internal-blend",
   "metadata": {
    "tags": []
   },
   "outputs": [],
   "source": [
    "!pip install wandb"
   ]
  },
  {
   "cell_type": "code",
   "execution_count": null,
   "id": "creative-frontier",
   "metadata": {},
   "outputs": [],
   "source": [
    "import os\n",
    "import re\n",
    "import json\n",
    "import time\n",
    "import wandb\n",
    "import random\n",
    "import datetime\n",
    "import numpy as np\n",
    "import pandas as pd\n",
    "from joblib import dump, load\n",
    "from tqdm.auto import tqdm\n",
    "import matplotlib.pyplot as plt\n",
    "import multiprocessing\n",
    "from multiprocessing import Pool\n",
    "from sklearn.feature_extraction.text import (\n",
    "    TfidfVectorizer, \n",
    "    CountVectorizer\n",
    ")\n",
    "from sklearn.metrics import (\n",
    "    roc_auc_score,\n",
    "    accuracy_score, \n",
    "    confusion_matrix, \n",
    "    precision_score, \n",
    "    recall_score, \n",
    "    f1_score,\n",
    "    roc_curve, \n",
    "    auc\n",
    ")\n",
    "from sklearn.model_selection import train_test_split\n",
    "from sklearn.linear_model import LogisticRegression\n",
    "from sklearn.ensemble import (\n",
    "    RandomForestClassifier, \n",
    "    GradientBoostingClassifier\n",
    ")\n",
    "from sklearn.model_selection import (\n",
    "    cross_val_score, \n",
    "    train_test_split,\n",
    "    StratifiedKFold\n",
    ")\n",
    "pd.set_option('display.max_columns', None)\n",
    "N_CORES = min(\n",
    "    multiprocessing.cpu_count(), \n",
    "    int(float(os.environ['CPU_LIMIT']))\n",
    ")\n",
    "print('cores:', N_CORES)"
   ]
  },
  {
   "cell_type": "markdown",
   "id": "general-shoot",
   "metadata": {},
   "source": [
    "### 2. Create config and place to store artifacts"
   ]
  },
  {
   "cell_type": "markdown",
   "id": "81de68ac-cdb4-49d0-b079-a788da4164ec",
   "metadata": {},
   "source": [
    "We will expand our approach with use of [WandB](https://wandb.ai) platform."
   ]
  },
  {
   "cell_type": "code",
   "execution_count": null,
   "id": "sorted-guyana",
   "metadata": {},
   "outputs": [],
   "source": [
    "start_time = time.time()\n",
    "\n",
    "# here is our config dictionary\n",
    "# we can use it to manage model's parameters\n",
    "# and save it to disk for a history\n",
    "VER = 'v0'\n",
    "CONFIG = {\n",
    "    'version': VER,\n",
    "    'start_time': str(datetime.datetime.fromtimestamp(start_time)),\n",
    "    'sample_size': 1000,\n",
    "    'ngram_range': (1, 1), \n",
    "    'max_df': .95, \n",
    "    'min_df': 5,\n",
    "    'clf': 'GradientBoostingClassifier', # 'RandomForestClassifier' or `GradientBoostingClassifier`\n",
    "    'folds': 4,\n",
    "    'seed': 2023,\n",
    "    'n_iters': 10,\n",
    "    'comments': 'my first model'\n",
    "}\n",
    "\n",
    "# path to store our model\n",
    "# will create folder each time\n",
    "# we run our training code\n",
    "MDLS_PATH = f'./models_{VER}'\n",
    "if not os.path.exists(MDLS_PATH):\n",
    "    os.mkdir(MDLS_PATH)\n",
    "with open(f'{MDLS_PATH}/config.json', 'w') as file:\n",
    "    json.dump(CONFIG, file)\n",
    "\n",
    "# useful trick to fix randomness\n",
    "def seed_all(seed):\n",
    "    \"\"\"\n",
    "    Sometimes it is useful to nail all randomness\n",
    "    and fix all random seeds for reproducibility.\n",
    "    \n",
    "    This function fixes all random seeds for current pipline, \n",
    "    but it could be extended e.g. for Tensorflow library \n",
    "    you may want to add `tf.random.set_seed(seed)` in the code.\n",
    "    \n",
    "    \"\"\"\n",
    "    random.seed(seed)\n",
    "    os.environ['PYTHONHASHSEED'] = str(seed)\n",
    "    np.random.seed(seed)\n",
    "\n",
    "seed_all(CONFIG['seed'])"
   ]
  },
  {
   "cell_type": "code",
   "execution_count": null,
   "id": "informed-flour",
   "metadata": {},
   "outputs": [],
   "source": [
    "# you may run `wandb.login()` in notebook\n",
    "# or `wandb login` in terminal\n",
    "\n",
    "with open(f'/home/jovyan/.wandb', 'r') as file:\n",
    "    api_key = file.read()\n",
    "wandb.login(key=api_key.replace('\\n', ''))"
   ]
  },
  {
   "cell_type": "markdown",
   "id": "vocational-virtue",
   "metadata": {},
   "source": [
    "### 2. Dataset for modelling"
   ]
  },
  {
   "cell_type": "code",
   "execution_count": null,
   "id": "grand-willow",
   "metadata": {},
   "outputs": [],
   "source": [
    "df = pd.read_csv('articles_data.csv')\n",
    "df = df.sample(CONFIG['sample_size']).reset_index()\n",
    "del df['index']\n",
    "print(df.shape)\n",
    "display(df.head())"
   ]
  },
  {
   "cell_type": "code",
   "execution_count": null,
   "id": "covered-hawaiian",
   "metadata": {},
   "outputs": [],
   "source": [
    "df.groupby('label').count()"
   ]
  },
  {
   "cell_type": "markdown",
   "id": "second-elements",
   "metadata": {},
   "source": [
    "### 3. Modelling with save of results with WandB"
   ]
  },
  {
   "cell_type": "code",
   "execution_count": null,
   "id": "found-anchor",
   "metadata": {},
   "outputs": [],
   "source": [
    "def text_features(data, vectorizer):\n",
    "    print('total texts:', len(data))\n",
    "    features = vectorizer.fit_transform(data)\n",
    "    print(\n",
    "        'features shape:', features.shape, \n",
    "        'max:', np.max(features), \n",
    "        'min:', np.min(features)\n",
    "    )\n",
    "    return features, vectorizer"
   ]
  },
  {
   "cell_type": "code",
   "execution_count": null,
   "id": "miniature-tsunami",
   "metadata": {},
   "outputs": [],
   "source": [
    "def cross_val_model(X, y, \n",
    "                    folds, clf,\n",
    "                    vectorizer, ngram_range=(1, 1), \n",
    "                    max_df=.2, min_df=8, seed=2022):\n",
    "    scores = {}\n",
    "    roc_auc_scores = []\n",
    "    f1_scores = []\n",
    "    skf = StratifiedKFold(n_splits=folds, random_state=seed, shuffle=True)\n",
    "    for fold, (train_idxs, test_idxs) in enumerate(skf.split(X, y)):\n",
    "        \n",
    "        # train model\n",
    "        \n",
    "        X_train, X_test = X.iloc[train_idxs], X.iloc[test_idxs]\n",
    "        y_train, y_test = y.iloc[train_idxs], y.iloc[test_idxs]\n",
    "        X_train, vectorizer = text_features(\n",
    "            X_train, \n",
    "            vectorizer=vectorizer\n",
    "        )\n",
    "        X_test = vectorizer.transform(X_test)\n",
    "        clf.fit(X_train, y_train)\n",
    "        \n",
    "        # saving models\n",
    "        # more about https://scikit-learn.org/stable/model_persistence.html\n",
    "        # NOTE - not only model, but vectorizer too!\n",
    "        \n",
    "        file_name = f'{MDLS_PATH}/model_fold_{fold}.joblib'\n",
    "        dump(clf, file_name)\n",
    "        print('saved to', file_name)\n",
    "        file_name = f'{MDLS_PATH}/vectorizer_fold_{fold}.joblib'\n",
    "        dump(vectorizer, file_name)\n",
    "        print('saved to', file_name)\n",
    "        \n",
    "        y_score = clf.predict_proba(X_test)\n",
    "        roc_auc_score_ = roc_auc_score(y_test, y_score[:, 1])\n",
    "        roc_auc_scores.append(roc_auc_score_)\n",
    "        y_pred = clf.predict(X_test)\n",
    "        f1_score_ = f1_score(y_test, y_pred)\n",
    "\n",
    "        f1_scores.append(f1_score_)\n",
    "        msg = f'fold {fold} - val ROC-AUC score: {roc_auc_score_:.2f}, val f1-score: {f1_score_:.2f}'\n",
    "        print(msg)\n",
    "        \n",
    "        scores[f'fold {fold}'] = {\n",
    "            'roc_auc_scores': roc_auc_scores,\n",
    "            'f1_scores': f1_scores\n",
    "        }\n",
    "        \n",
    "        # WandB visualize all classifier plots\n",
    "        \n",
    "        run = wandb.init(\n",
    "            project='articles',\n",
    "            name=f'Articles classification {VER} fold {fold}',\n",
    "            settings=wandb.Settings(\n",
    "                start_method=\"thread\", \n",
    "                console=\"auto\"\n",
    "            )\n",
    "        )\n",
    "        wandb.config = CONFIG\n",
    "        wandb.sklearn.plot_classifier(\n",
    "            clf, \n",
    "            X_train, X_test, \n",
    "            y_train, y_test, \n",
    "            y_pred, y_score,\n",
    "            labels=['good', 'bad'],\n",
    "            is_binary=True,\n",
    "            model_name=f'{CONFIG[\"clf\"]} fold {fold}', \n",
    "            feature_names=vectorizer.get_feature_names_out()\n",
    "        )\n",
    "        \n",
    "        # metrics to WandB\n",
    "        wandb.summary['ROC AUC score'] = roc_auc_score_\n",
    "        wandb.summary['F1 score'] = f1_score_\n",
    "        \n",
    "        # WandB data versioning\n",
    "        data_path = f'./models_{CONFIG[\"version\"]}/data_fold_{fold}'\n",
    "        if not os.path.exists(data_path):\n",
    "            os.mkdir(data_path)\n",
    "        save_data_path = f'{data_path}/data_fold_{fold}.csv'\n",
    "        X.iloc[train_idxs].to_csv(save_data_path)\n",
    "        wandb_data = wandb.Artifact(f'dataset_{CONFIG[\"version\"]}_fold_{fold}', type='raw_data')\n",
    "        wandb_data.add_dir(data_path)\n",
    "        run.log_artifact(wandb_data)\n",
    "        \n",
    "    return scores"
   ]
  },
  {
   "cell_type": "code",
   "execution_count": null,
   "id": "wicked-vanilla",
   "metadata": {},
   "outputs": [],
   "source": [
    "# create vectorizer with respect to\n",
    "# our configuration parameters\n",
    "vectorizer=TfidfVectorizer(\n",
    "    ngram_range=CONFIG['ngram_range'], \n",
    "    max_df=CONFIG['max_df'], \n",
    "    min_df=CONFIG['min_df']\n",
    ")\n",
    "\n",
    "# select the type of the model\n",
    "if CONFIG['clf'] == 'RandomForestClassifier':\n",
    "    clf = RandomForestClassifier(n_estimators=CONFIG['n_iters']) \n",
    "elif CONFIG['clf'] == 'GradientBoostingClassifier':\n",
    "    clf = GradientBoostingClassifier(n_estimators=CONFIG['n_iters']) \n",
    "else:\n",
    "    clf = LogisticRegression()\n",
    "    \n",
    "# start our training\n",
    "scores = cross_val_model(\n",
    "    X=df['proc'], \n",
    "    y=df['label'], \n",
    "    folds=CONFIG['folds'], \n",
    "    clf=clf,\n",
    "    vectorizer=vectorizer,\n",
    "    seed=CONFIG['seed']\n",
    ")"
   ]
  },
  {
   "cell_type": "code",
   "execution_count": null,
   "id": "stretch-committee",
   "metadata": {},
   "outputs": [],
   "source": []
  },
  {
   "cell_type": "code",
   "execution_count": null,
   "id": "metropolitan-rings",
   "metadata": {},
   "outputs": [],
   "source": []
  }
 ],
 "metadata": {
  "kernelspec": {
   "display_name": "Python 3 (ipykernel)",
   "language": "python",
   "name": "python3"
  },
  "language_info": {
   "codemirror_mode": {
    "name": "ipython",
    "version": 3
   },
   "file_extension": ".py",
   "mimetype": "text/x-python",
   "name": "python",
   "nbconvert_exporter": "python",
   "pygments_lexer": "ipython3",
   "version": "3.10.8"
  },
  "widgets": {
   "application/vnd.jupyter.widget-state+json": {
    "state": {
     "01a4a09d873d4022beb2f8d7922640d2": {
      "model_module": "@jupyter-widgets/base",
      "model_module_version": "2.0.0",
      "model_name": "LayoutModel",
      "state": {}
     },
     "073ffce5f4f24f4da699aeb1ce4b8b9d": {
      "model_module": "@jupyter-widgets/base",
      "model_module_version": "2.0.0",
      "model_name": "LayoutModel",
      "state": {}
     },
     "079b7eb273ce45f1881870cbc9ebd144": {
      "model_module": "@jupyter-widgets/controls",
      "model_module_version": "2.0.0",
      "model_name": "FloatProgressModel",
      "state": {
       "layout": "IPY_MODEL_fb77e318b0b3496db84970035742a115",
       "max": 1,
       "style": "IPY_MODEL_d91ffd94a785478682b8de321f39dadf",
       "value": 1
      }
     },
     "0936587ffa6b47048d0a084c86bad600": {
      "model_module": "@jupyter-widgets/controls",
      "model_module_version": "2.0.0",
      "model_name": "LabelStyleModel",
      "state": {
       "description_width": "",
       "font_family": null,
       "font_size": null,
       "font_style": null,
       "font_variant": null,
       "font_weight": null,
       "text_color": null,
       "text_decoration": null
      }
     },
     "11cabbfca79047a6b05d732d786f52e6": {
      "model_module": "@jupyter-widgets/controls",
      "model_module_version": "2.0.0",
      "model_name": "ProgressStyleModel",
      "state": {
       "description_width": ""
      }
     },
     "1387cffbf12a4c7cad2e53198f051d68": {
      "model_module": "@jupyter-widgets/base",
      "model_module_version": "2.0.0",
      "model_name": "LayoutModel",
      "state": {}
     },
     "175f2420821e48f08e758273a3085904": {
      "model_module": "@jupyter-widgets/base",
      "model_module_version": "2.0.0",
      "model_name": "LayoutModel",
      "state": {}
     },
     "1fa0b22c369e4d16b8edc6ba57afaf3d": {
      "model_module": "@jupyter-widgets/base",
      "model_module_version": "2.0.0",
      "model_name": "LayoutModel",
      "state": {}
     },
     "2286c347a5b54063ba797a6fde34ebe5": {
      "model_module": "@jupyter-widgets/controls",
      "model_module_version": "2.0.0",
      "model_name": "FloatProgressModel",
      "state": {
       "layout": "IPY_MODEL_581e5178c3d342e19154387400ee972f",
       "max": 1,
       "style": "IPY_MODEL_46e0799443f04ac6ae95458c04ee1d2e",
       "value": 1
      }
     },
     "24aee8852b1c4f61836c1273f61054f7": {
      "model_module": "@jupyter-widgets/controls",
      "model_module_version": "2.0.0",
      "model_name": "FloatProgressModel",
      "state": {
       "layout": "IPY_MODEL_67e8d92fe7ac4837bf29ebceb358b7fb",
       "max": 1,
       "style": "IPY_MODEL_11cabbfca79047a6b05d732d786f52e6",
       "value": 1
      }
     },
     "29d55040943c433b95aee1bbcd6df53c": {
      "model_module": "@jupyter-widgets/base",
      "model_module_version": "2.0.0",
      "model_name": "LayoutModel",
      "state": {}
     },
     "29e0e95cd79a43979043f0ce06a341ef": {
      "model_module": "@jupyter-widgets/controls",
      "model_module_version": "2.0.0",
      "model_name": "VBoxModel",
      "state": {
       "children": [
        "IPY_MODEL_a0f1ac53566541a096ed161d287b8cca",
        "IPY_MODEL_356efcd8710c47deac2217d3ceca5f44"
       ],
       "layout": "IPY_MODEL_f8c7183c65da4157b388bf9484cea80d"
      }
     },
     "2b8a8f0007674fcb93fd95bbf7cb9212": {
      "model_module": "@jupyter-widgets/controls",
      "model_module_version": "2.0.0",
      "model_name": "ProgressStyleModel",
      "state": {
       "description_width": ""
      }
     },
     "356efcd8710c47deac2217d3ceca5f44": {
      "model_module": "@jupyter-widgets/controls",
      "model_module_version": "2.0.0",
      "model_name": "FloatProgressModel",
      "state": {
       "layout": "IPY_MODEL_94f39142ca7a47fa92d6b4e64d73c7ca",
       "max": 1,
       "style": "IPY_MODEL_bb895051651447338e443eb33331333e"
      }
     },
     "42ddadaeced54abdaa4dbe1d1059a8e6": {
      "model_module": "@jupyter-widgets/controls",
      "model_module_version": "2.0.0",
      "model_name": "VBoxModel",
      "state": {
       "children": [
        "IPY_MODEL_677c1ab47aea4024b3314f9cc32ff13b",
        "IPY_MODEL_8db205044bff40b2b3eeb21c4d67b16a"
       ],
       "layout": "IPY_MODEL_175f2420821e48f08e758273a3085904"
      }
     },
     "44dd67276e4c415bbd93b45b1a1e3502": {
      "model_module": "@jupyter-widgets/base",
      "model_module_version": "2.0.0",
      "model_name": "LayoutModel",
      "state": {}
     },
     "46e0799443f04ac6ae95458c04ee1d2e": {
      "model_module": "@jupyter-widgets/controls",
      "model_module_version": "2.0.0",
      "model_name": "ProgressStyleModel",
      "state": {
       "description_width": ""
      }
     },
     "51ce3c143c484aa1bf55299c9e8d2d15": {
      "model_module": "@jupyter-widgets/controls",
      "model_module_version": "2.0.0",
      "model_name": "LabelStyleModel",
      "state": {
       "description_width": "",
       "font_family": null,
       "font_size": null,
       "font_style": null,
       "font_variant": null,
       "font_weight": null,
       "text_color": null,
       "text_decoration": null
      }
     },
     "581e5178c3d342e19154387400ee972f": {
      "model_module": "@jupyter-widgets/base",
      "model_module_version": "2.0.0",
      "model_name": "LayoutModel",
      "state": {}
     },
     "62b31cf0629841ba80433fbf8cd65c17": {
      "model_module": "@jupyter-widgets/base",
      "model_module_version": "2.0.0",
      "model_name": "LayoutModel",
      "state": {}
     },
     "677c1ab47aea4024b3314f9cc32ff13b": {
      "model_module": "@jupyter-widgets/controls",
      "model_module_version": "2.0.0",
      "model_name": "LabelModel",
      "state": {
       "layout": "IPY_MODEL_b09fcb36c578473da0e0b115bac020ed",
       "style": "IPY_MODEL_98d5e24a09f14336910d54018d28fab1",
       "value": "Waiting for wandb.init()...\r"
      }
     },
     "67e8d92fe7ac4837bf29ebceb358b7fb": {
      "model_module": "@jupyter-widgets/base",
      "model_module_version": "2.0.0",
      "model_name": "LayoutModel",
      "state": {}
     },
     "6c5a439469624f3ab74985520e6a2d2a": {
      "model_module": "@jupyter-widgets/base",
      "model_module_version": "2.0.0",
      "model_name": "LayoutModel",
      "state": {}
     },
     "6e734091989c4bb989436b4c108abe76": {
      "model_module": "@jupyter-widgets/controls",
      "model_module_version": "2.0.0",
      "model_name": "LabelModel",
      "state": {
       "layout": "IPY_MODEL_8d202151735344ddb1642f7b38487e3e",
       "style": "IPY_MODEL_9f77ed98f77944ac90ec0075f450c5cd",
       "value": "Waiting for wandb.init()...\r"
      }
     },
     "6ea580b0523442a0ab2db9082f7703c5": {
      "model_module": "@jupyter-widgets/controls",
      "model_module_version": "2.0.0",
      "model_name": "ProgressStyleModel",
      "state": {
       "description_width": ""
      }
     },
     "723f471b0af845289a541f4dd259b685": {
      "model_module": "@jupyter-widgets/base",
      "model_module_version": "2.0.0",
      "model_name": "LayoutModel",
      "state": {}
     },
     "8051d994750f4c96a4c52f9f84216b53": {
      "model_module": "@jupyter-widgets/controls",
      "model_module_version": "2.0.0",
      "model_name": "VBoxModel",
      "state": {
       "children": [
        "IPY_MODEL_6e734091989c4bb989436b4c108abe76",
        "IPY_MODEL_d308e914e87c40f5944853bab8391941"
       ],
       "layout": "IPY_MODEL_01a4a09d873d4022beb2f8d7922640d2"
      }
     },
     "83f2bce4e61e480d93ba5a8339c22eb4": {
      "model_module": "@jupyter-widgets/controls",
      "model_module_version": "2.0.0",
      "model_name": "LabelModel",
      "state": {
       "layout": "IPY_MODEL_44dd67276e4c415bbd93b45b1a1e3502",
       "style": "IPY_MODEL_0936587ffa6b47048d0a084c86bad600",
       "value": "0.627 MB of 0.627 MB uploaded\r"
      }
     },
     "86ae189893e04eaab4aea8beb79460d4": {
      "model_module": "@jupyter-widgets/controls",
      "model_module_version": "2.0.0",
      "model_name": "LabelStyleModel",
      "state": {
       "description_width": "",
       "font_family": null,
       "font_size": null,
       "font_style": null,
       "font_variant": null,
       "font_weight": null,
       "text_color": null,
       "text_decoration": null
      }
     },
     "89b71f8068a8429c8c3de6e45177eca2": {
      "model_module": "@jupyter-widgets/controls",
      "model_module_version": "2.0.0",
      "model_name": "VBoxModel",
      "state": {
       "children": [
        "IPY_MODEL_fe8ab5dadde845baa3d74d077ac2288f",
        "IPY_MODEL_d88fde328e1c48e982987734ce716fca"
       ],
       "layout": "IPY_MODEL_62b31cf0629841ba80433fbf8cd65c17"
      }
     },
     "8d202151735344ddb1642f7b38487e3e": {
      "model_module": "@jupyter-widgets/base",
      "model_module_version": "2.0.0",
      "model_name": "LayoutModel",
      "state": {}
     },
     "8db205044bff40b2b3eeb21c4d67b16a": {
      "model_module": "@jupyter-widgets/controls",
      "model_module_version": "2.0.0",
      "model_name": "FloatProgressModel",
      "state": {
       "layout": "IPY_MODEL_1fa0b22c369e4d16b8edc6ba57afaf3d",
       "max": 1,
       "style": "IPY_MODEL_2b8a8f0007674fcb93fd95bbf7cb9212",
       "value": 1
      }
     },
     "94813587034e4f43a636a76b880ec743": {
      "model_module": "@jupyter-widgets/base",
      "model_module_version": "2.0.0",
      "model_name": "LayoutModel",
      "state": {}
     },
     "94f39142ca7a47fa92d6b4e64d73c7ca": {
      "model_module": "@jupyter-widgets/base",
      "model_module_version": "2.0.0",
      "model_name": "LayoutModel",
      "state": {}
     },
     "98d5e24a09f14336910d54018d28fab1": {
      "model_module": "@jupyter-widgets/controls",
      "model_module_version": "2.0.0",
      "model_name": "LabelStyleModel",
      "state": {
       "description_width": "",
       "font_family": null,
       "font_size": null,
       "font_style": null,
       "font_variant": null,
       "font_weight": null,
       "text_color": null,
       "text_decoration": null
      }
     },
     "9f2a3103610f49849d3cd92ebc590cb0": {
      "model_module": "@jupyter-widgets/controls",
      "model_module_version": "2.0.0",
      "model_name": "FloatProgressModel",
      "state": {
       "layout": "IPY_MODEL_6c5a439469624f3ab74985520e6a2d2a",
       "max": 1,
       "style": "IPY_MODEL_acacea7bd6d645b6b03bd87c488d7a6e",
       "value": 1
      }
     },
     "9f77ed98f77944ac90ec0075f450c5cd": {
      "model_module": "@jupyter-widgets/controls",
      "model_module_version": "2.0.0",
      "model_name": "LabelStyleModel",
      "state": {
       "description_width": "",
       "font_family": null,
       "font_size": null,
       "font_style": null,
       "font_variant": null,
       "font_weight": null,
       "text_color": null,
       "text_decoration": null
      }
     },
     "a0f1ac53566541a096ed161d287b8cca": {
      "model_module": "@jupyter-widgets/controls",
      "model_module_version": "2.0.0",
      "model_name": "LabelModel",
      "state": {
       "layout": "IPY_MODEL_723f471b0af845289a541f4dd259b685",
       "style": "IPY_MODEL_51ce3c143c484aa1bf55299c9e8d2d15"
      }
     },
     "acacea7bd6d645b6b03bd87c488d7a6e": {
      "model_module": "@jupyter-widgets/controls",
      "model_module_version": "2.0.0",
      "model_name": "ProgressStyleModel",
      "state": {
       "description_width": ""
      }
     },
     "b09fcb36c578473da0e0b115bac020ed": {
      "model_module": "@jupyter-widgets/base",
      "model_module_version": "2.0.0",
      "model_name": "LayoutModel",
      "state": {}
     },
     "b0ec5965711b48bfaad0b596ee440be4": {
      "model_module": "@jupyter-widgets/controls",
      "model_module_version": "2.0.0",
      "model_name": "LabelStyleModel",
      "state": {
       "description_width": "",
       "font_family": null,
       "font_size": null,
       "font_style": null,
       "font_variant": null,
       "font_weight": null,
       "text_color": null,
       "text_decoration": null
      }
     },
     "ba325f8acb1f46eba50d41a277b5d6c6": {
      "model_module": "@jupyter-widgets/base",
      "model_module_version": "2.0.0",
      "model_name": "LayoutModel",
      "state": {}
     },
     "bb895051651447338e443eb33331333e": {
      "model_module": "@jupyter-widgets/controls",
      "model_module_version": "2.0.0",
      "model_name": "ProgressStyleModel",
      "state": {
       "description_width": ""
      }
     },
     "cbb500f35a904911ae144b41bebea946": {
      "model_module": "@jupyter-widgets/controls",
      "model_module_version": "2.0.0",
      "model_name": "LabelModel",
      "state": {
       "layout": "IPY_MODEL_ee7b207335724411b31c68d7a785aee2",
       "style": "IPY_MODEL_fec6678aa59f4888a011c8d1f180a71c",
       "value": "0.635 MB of 0.635 MB uploaded\r"
      }
     },
     "cecb021db42241078b8d230f337d696c": {
      "model_module": "@jupyter-widgets/controls",
      "model_module_version": "2.0.0",
      "model_name": "ProgressStyleModel",
      "state": {
       "description_width": ""
      }
     },
     "d06b64c812424003bec8e119cab49d13": {
      "model_module": "@jupyter-widgets/base",
      "model_module_version": "2.0.0",
      "model_name": "LayoutModel",
      "state": {}
     },
     "d308e914e87c40f5944853bab8391941": {
      "model_module": "@jupyter-widgets/controls",
      "model_module_version": "2.0.0",
      "model_name": "FloatProgressModel",
      "state": {
       "layout": "IPY_MODEL_dfcb706d116d408195dde3e4b9a876a3",
       "max": 1,
       "style": "IPY_MODEL_cecb021db42241078b8d230f337d696c",
       "value": 1
      }
     },
     "d88fde328e1c48e982987734ce716fca": {
      "model_module": "@jupyter-widgets/controls",
      "model_module_version": "2.0.0",
      "model_name": "FloatProgressModel",
      "state": {
       "layout": "IPY_MODEL_e1cb26610b9646f284fced8234b80a34",
       "max": 1,
       "style": "IPY_MODEL_6ea580b0523442a0ab2db9082f7703c5"
      }
     },
     "d91ffd94a785478682b8de321f39dadf": {
      "model_module": "@jupyter-widgets/controls",
      "model_module_version": "2.0.0",
      "model_name": "ProgressStyleModel",
      "state": {
       "description_width": ""
      }
     },
     "d97e8f28dba54f0985d06aa9112e9f99": {
      "model_module": "@jupyter-widgets/controls",
      "model_module_version": "2.0.0",
      "model_name": "LabelStyleModel",
      "state": {
       "description_width": "",
       "font_family": null,
       "font_size": null,
       "font_style": null,
       "font_variant": null,
       "font_weight": null,
       "text_color": null,
       "text_decoration": null
      }
     },
     "dfcb706d116d408195dde3e4b9a876a3": {
      "model_module": "@jupyter-widgets/base",
      "model_module_version": "2.0.0",
      "model_name": "LayoutModel",
      "state": {}
     },
     "e1cb26610b9646f284fced8234b80a34": {
      "model_module": "@jupyter-widgets/base",
      "model_module_version": "2.0.0",
      "model_name": "LayoutModel",
      "state": {}
     },
     "e5f6cdac279343218ad64f2e10a52d42": {
      "model_module": "@jupyter-widgets/controls",
      "model_module_version": "2.0.0",
      "model_name": "LabelModel",
      "state": {
       "layout": "IPY_MODEL_1387cffbf12a4c7cad2e53198f051d68",
       "style": "IPY_MODEL_d97e8f28dba54f0985d06aa9112e9f99",
       "value": "Waiting for wandb.init()...\r"
      }
     },
     "e6a0635288594851a630a8d3575b47af": {
      "model_module": "@jupyter-widgets/base",
      "model_module_version": "2.0.0",
      "model_name": "LayoutModel",
      "state": {}
     },
     "ee7b207335724411b31c68d7a785aee2": {
      "model_module": "@jupyter-widgets/base",
      "model_module_version": "2.0.0",
      "model_name": "LayoutModel",
      "state": {}
     },
     "f5839e5544364001b8839441f8d932d2": {
      "model_module": "@jupyter-widgets/controls",
      "model_module_version": "2.0.0",
      "model_name": "VBoxModel",
      "state": {
       "children": [
        "IPY_MODEL_e5f6cdac279343218ad64f2e10a52d42",
        "IPY_MODEL_2286c347a5b54063ba797a6fde34ebe5"
       ],
       "layout": "IPY_MODEL_073ffce5f4f24f4da699aeb1ce4b8b9d"
      }
     },
     "f8c7183c65da4157b388bf9484cea80d": {
      "model_module": "@jupyter-widgets/base",
      "model_module_version": "2.0.0",
      "model_name": "LayoutModel",
      "state": {}
     },
     "f9cb5ac278764d17997e0f9ef389df03": {
      "model_module": "@jupyter-widgets/controls",
      "model_module_version": "2.0.0",
      "model_name": "LabelModel",
      "state": {
       "layout": "IPY_MODEL_94813587034e4f43a636a76b880ec743",
       "style": "IPY_MODEL_b0ec5965711b48bfaad0b596ee440be4",
       "value": "0.609 MB of 0.609 MB uploaded\r"
      }
     },
     "fb77e318b0b3496db84970035742a115": {
      "model_module": "@jupyter-widgets/base",
      "model_module_version": "2.0.0",
      "model_name": "LayoutModel",
      "state": {}
     },
     "fe8ab5dadde845baa3d74d077ac2288f": {
      "model_module": "@jupyter-widgets/controls",
      "model_module_version": "2.0.0",
      "model_name": "LabelModel",
      "state": {
       "layout": "IPY_MODEL_d06b64c812424003bec8e119cab49d13",
       "style": "IPY_MODEL_86ae189893e04eaab4aea8beb79460d4"
      }
     },
     "fec6678aa59f4888a011c8d1f180a71c": {
      "model_module": "@jupyter-widgets/controls",
      "model_module_version": "2.0.0",
      "model_name": "LabelStyleModel",
      "state": {
       "description_width": "",
       "font_family": null,
       "font_size": null,
       "font_style": null,
       "font_variant": null,
       "font_weight": null,
       "text_color": null,
       "text_decoration": null
      }
     }
    },
    "version_major": 2,
    "version_minor": 0
   }
  }
 },
 "nbformat": 4,
 "nbformat_minor": 5
}
